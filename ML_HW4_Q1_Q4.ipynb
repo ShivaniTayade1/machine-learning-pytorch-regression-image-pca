{
 "cells": [
  {
   "cell_type": "markdown",
   "id": "09004578-b0b6-4f56-8de4-41d068a76f03",
   "metadata": {
    "execution": {
     "iopub.execute_input": "2025-02-18T23:51:22.683872Z",
     "iopub.status.busy": "2025-02-18T23:51:22.683254Z",
     "iopub.status.idle": "2025-02-18T23:51:29.331577Z",
     "shell.execute_reply": "2025-02-18T23:51:29.330578Z",
     "shell.execute_reply.started": "2025-02-18T23:51:22.683838Z"
    }
   },
   "source": [
    "# Machine Learning - Homework 4\n",
    "##### Author: Shivani Tayade, Sravya Bhaskara"
   ]
  },
  {
   "cell_type": "markdown",
   "id": "6323cfed-80c8-4bf2-8ab3-e6790a1b82c8",
   "metadata": {},
   "source": [
    "### Linear Regression with PyTorch on the Auto MPG Dataset "
   ]
  },
  {
   "cell_type": "code",
   "execution_count": 3,
   "id": "7eda2670-da03-4753-a393-eb919d2e60fe",
   "metadata": {
    "execution": {
     "iopub.execute_input": "2025-02-19T07:43:46.275470Z",
     "iopub.status.busy": "2025-02-19T07:43:46.275211Z",
     "iopub.status.idle": "2025-02-19T07:43:49.308416Z",
     "shell.execute_reply": "2025-02-19T07:43:49.307805Z",
     "shell.execute_reply.started": "2025-02-19T07:43:46.275444Z"
    }
   },
   "outputs": [],
   "source": [
    "import seaborn as sns\n",
    "import pandas as pd\n",
    "import matplotlib.pyplot as plt\n",
    "import numpy as np\n",
    "import matplotlib.pyplot as plt\n",
    "from sklearn.preprocessing import StandardScaler\n",
    "from sklearn.model_selection import train_test_split\n",
    "from sklearn.metrics import mean_squared_error, r2_score"
   ]
  },
  {
   "cell_type": "code",
   "execution_count": 4,
   "id": "2337e884-9b3f-42e2-a271-d091d791b97c",
   "metadata": {
    "execution": {
     "iopub.execute_input": "2025-02-19T07:43:49.309812Z",
     "iopub.status.busy": "2025-02-19T07:43:49.309222Z",
     "iopub.status.idle": "2025-02-19T07:43:49.340548Z",
     "shell.execute_reply": "2025-02-19T07:43:49.339925Z",
     "shell.execute_reply.started": "2025-02-19T07:43:49.309789Z"
    }
   },
   "outputs": [
    {
     "data": {
      "text/html": [
       "<div>\n",
       "<style scoped>\n",
       "    .dataframe tbody tr th:only-of-type {\n",
       "        vertical-align: middle;\n",
       "    }\n",
       "\n",
       "    .dataframe tbody tr th {\n",
       "        vertical-align: top;\n",
       "    }\n",
       "\n",
       "    .dataframe thead th {\n",
       "        text-align: right;\n",
       "    }\n",
       "</style>\n",
       "<table border=\"1\" class=\"dataframe\">\n",
       "  <thead>\n",
       "    <tr style=\"text-align: right;\">\n",
       "      <th></th>\n",
       "      <th>mpg</th>\n",
       "      <th>cylinders</th>\n",
       "      <th>displacement</th>\n",
       "      <th>horsepower</th>\n",
       "      <th>weight</th>\n",
       "      <th>acceleration</th>\n",
       "      <th>model_year</th>\n",
       "      <th>origin</th>\n",
       "      <th>name</th>\n",
       "    </tr>\n",
       "  </thead>\n",
       "  <tbody>\n",
       "    <tr>\n",
       "      <th>0</th>\n",
       "      <td>18.0</td>\n",
       "      <td>8</td>\n",
       "      <td>307.0</td>\n",
       "      <td>130.0</td>\n",
       "      <td>3504</td>\n",
       "      <td>12.0</td>\n",
       "      <td>70</td>\n",
       "      <td>usa</td>\n",
       "      <td>chevrolet chevelle malibu</td>\n",
       "    </tr>\n",
       "    <tr>\n",
       "      <th>1</th>\n",
       "      <td>15.0</td>\n",
       "      <td>8</td>\n",
       "      <td>350.0</td>\n",
       "      <td>165.0</td>\n",
       "      <td>3693</td>\n",
       "      <td>11.5</td>\n",
       "      <td>70</td>\n",
       "      <td>usa</td>\n",
       "      <td>buick skylark 320</td>\n",
       "    </tr>\n",
       "    <tr>\n",
       "      <th>2</th>\n",
       "      <td>18.0</td>\n",
       "      <td>8</td>\n",
       "      <td>318.0</td>\n",
       "      <td>150.0</td>\n",
       "      <td>3436</td>\n",
       "      <td>11.0</td>\n",
       "      <td>70</td>\n",
       "      <td>usa</td>\n",
       "      <td>plymouth satellite</td>\n",
       "    </tr>\n",
       "    <tr>\n",
       "      <th>3</th>\n",
       "      <td>16.0</td>\n",
       "      <td>8</td>\n",
       "      <td>304.0</td>\n",
       "      <td>150.0</td>\n",
       "      <td>3433</td>\n",
       "      <td>12.0</td>\n",
       "      <td>70</td>\n",
       "      <td>usa</td>\n",
       "      <td>amc rebel sst</td>\n",
       "    </tr>\n",
       "    <tr>\n",
       "      <th>4</th>\n",
       "      <td>17.0</td>\n",
       "      <td>8</td>\n",
       "      <td>302.0</td>\n",
       "      <td>140.0</td>\n",
       "      <td>3449</td>\n",
       "      <td>10.5</td>\n",
       "      <td>70</td>\n",
       "      <td>usa</td>\n",
       "      <td>ford torino</td>\n",
       "    </tr>\n",
       "    <tr>\n",
       "      <th>...</th>\n",
       "      <td>...</td>\n",
       "      <td>...</td>\n",
       "      <td>...</td>\n",
       "      <td>...</td>\n",
       "      <td>...</td>\n",
       "      <td>...</td>\n",
       "      <td>...</td>\n",
       "      <td>...</td>\n",
       "      <td>...</td>\n",
       "    </tr>\n",
       "    <tr>\n",
       "      <th>393</th>\n",
       "      <td>27.0</td>\n",
       "      <td>4</td>\n",
       "      <td>140.0</td>\n",
       "      <td>86.0</td>\n",
       "      <td>2790</td>\n",
       "      <td>15.6</td>\n",
       "      <td>82</td>\n",
       "      <td>usa</td>\n",
       "      <td>ford mustang gl</td>\n",
       "    </tr>\n",
       "    <tr>\n",
       "      <th>394</th>\n",
       "      <td>44.0</td>\n",
       "      <td>4</td>\n",
       "      <td>97.0</td>\n",
       "      <td>52.0</td>\n",
       "      <td>2130</td>\n",
       "      <td>24.6</td>\n",
       "      <td>82</td>\n",
       "      <td>europe</td>\n",
       "      <td>vw pickup</td>\n",
       "    </tr>\n",
       "    <tr>\n",
       "      <th>395</th>\n",
       "      <td>32.0</td>\n",
       "      <td>4</td>\n",
       "      <td>135.0</td>\n",
       "      <td>84.0</td>\n",
       "      <td>2295</td>\n",
       "      <td>11.6</td>\n",
       "      <td>82</td>\n",
       "      <td>usa</td>\n",
       "      <td>dodge rampage</td>\n",
       "    </tr>\n",
       "    <tr>\n",
       "      <th>396</th>\n",
       "      <td>28.0</td>\n",
       "      <td>4</td>\n",
       "      <td>120.0</td>\n",
       "      <td>79.0</td>\n",
       "      <td>2625</td>\n",
       "      <td>18.6</td>\n",
       "      <td>82</td>\n",
       "      <td>usa</td>\n",
       "      <td>ford ranger</td>\n",
       "    </tr>\n",
       "    <tr>\n",
       "      <th>397</th>\n",
       "      <td>31.0</td>\n",
       "      <td>4</td>\n",
       "      <td>119.0</td>\n",
       "      <td>82.0</td>\n",
       "      <td>2720</td>\n",
       "      <td>19.4</td>\n",
       "      <td>82</td>\n",
       "      <td>usa</td>\n",
       "      <td>chevy s-10</td>\n",
       "    </tr>\n",
       "  </tbody>\n",
       "</table>\n",
       "<p>398 rows × 9 columns</p>\n",
       "</div>"
      ],
      "text/plain": [
       "      mpg  cylinders  displacement  horsepower  weight  acceleration  \\\n",
       "0    18.0          8         307.0       130.0    3504          12.0   \n",
       "1    15.0          8         350.0       165.0    3693          11.5   \n",
       "2    18.0          8         318.0       150.0    3436          11.0   \n",
       "3    16.0          8         304.0       150.0    3433          12.0   \n",
       "4    17.0          8         302.0       140.0    3449          10.5   \n",
       "..    ...        ...           ...         ...     ...           ...   \n",
       "393  27.0          4         140.0        86.0    2790          15.6   \n",
       "394  44.0          4          97.0        52.0    2130          24.6   \n",
       "395  32.0          4         135.0        84.0    2295          11.6   \n",
       "396  28.0          4         120.0        79.0    2625          18.6   \n",
       "397  31.0          4         119.0        82.0    2720          19.4   \n",
       "\n",
       "     model_year  origin                       name  \n",
       "0            70     usa  chevrolet chevelle malibu  \n",
       "1            70     usa          buick skylark 320  \n",
       "2            70     usa         plymouth satellite  \n",
       "3            70     usa              amc rebel sst  \n",
       "4            70     usa                ford torino  \n",
       "..          ...     ...                        ...  \n",
       "393          82     usa            ford mustang gl  \n",
       "394          82  europe                  vw pickup  \n",
       "395          82     usa              dodge rampage  \n",
       "396          82     usa                ford ranger  \n",
       "397          82     usa                 chevy s-10  \n",
       "\n",
       "[398 rows x 9 columns]"
      ]
     },
     "execution_count": 4,
     "metadata": {},
     "output_type": "execute_result"
    }
   ],
   "source": [
    "# Load dataset\n",
    "df = sns.load_dataset('mpg')\n",
    "df"
   ]
  },
  {
   "cell_type": "code",
   "execution_count": 5,
   "id": "abb0fa40-83da-494e-853c-f04b8873bbde",
   "metadata": {
    "execution": {
     "iopub.execute_input": "2025-02-19T07:43:49.343315Z",
     "iopub.status.busy": "2025-02-19T07:43:49.342480Z",
     "iopub.status.idle": "2025-02-19T07:43:49.364206Z",
     "shell.execute_reply": "2025-02-19T07:43:49.363614Z",
     "shell.execute_reply.started": "2025-02-19T07:43:49.343289Z"
    }
   },
   "outputs": [
    {
     "data": {
      "text/html": [
       "<div>\n",
       "<style scoped>\n",
       "    .dataframe tbody tr th:only-of-type {\n",
       "        vertical-align: middle;\n",
       "    }\n",
       "\n",
       "    .dataframe tbody tr th {\n",
       "        vertical-align: top;\n",
       "    }\n",
       "\n",
       "    .dataframe thead th {\n",
       "        text-align: right;\n",
       "    }\n",
       "</style>\n",
       "<table border=\"1\" class=\"dataframe\">\n",
       "  <thead>\n",
       "    <tr style=\"text-align: right;\">\n",
       "      <th></th>\n",
       "      <th>mpg</th>\n",
       "      <th>cylinders</th>\n",
       "      <th>displacement</th>\n",
       "      <th>horsepower</th>\n",
       "      <th>weight</th>\n",
       "      <th>acceleration</th>\n",
       "      <th>model_year</th>\n",
       "    </tr>\n",
       "  </thead>\n",
       "  <tbody>\n",
       "    <tr>\n",
       "      <th>count</th>\n",
       "      <td>398.000000</td>\n",
       "      <td>398.000000</td>\n",
       "      <td>398.000000</td>\n",
       "      <td>392.000000</td>\n",
       "      <td>398.000000</td>\n",
       "      <td>398.000000</td>\n",
       "      <td>398.000000</td>\n",
       "    </tr>\n",
       "    <tr>\n",
       "      <th>mean</th>\n",
       "      <td>23.514573</td>\n",
       "      <td>5.454774</td>\n",
       "      <td>193.425879</td>\n",
       "      <td>104.469388</td>\n",
       "      <td>2970.424623</td>\n",
       "      <td>15.568090</td>\n",
       "      <td>76.010050</td>\n",
       "    </tr>\n",
       "    <tr>\n",
       "      <th>std</th>\n",
       "      <td>7.815984</td>\n",
       "      <td>1.701004</td>\n",
       "      <td>104.269838</td>\n",
       "      <td>38.491160</td>\n",
       "      <td>846.841774</td>\n",
       "      <td>2.757689</td>\n",
       "      <td>3.697627</td>\n",
       "    </tr>\n",
       "    <tr>\n",
       "      <th>min</th>\n",
       "      <td>9.000000</td>\n",
       "      <td>3.000000</td>\n",
       "      <td>68.000000</td>\n",
       "      <td>46.000000</td>\n",
       "      <td>1613.000000</td>\n",
       "      <td>8.000000</td>\n",
       "      <td>70.000000</td>\n",
       "    </tr>\n",
       "    <tr>\n",
       "      <th>25%</th>\n",
       "      <td>17.500000</td>\n",
       "      <td>4.000000</td>\n",
       "      <td>104.250000</td>\n",
       "      <td>75.000000</td>\n",
       "      <td>2223.750000</td>\n",
       "      <td>13.825000</td>\n",
       "      <td>73.000000</td>\n",
       "    </tr>\n",
       "    <tr>\n",
       "      <th>50%</th>\n",
       "      <td>23.000000</td>\n",
       "      <td>4.000000</td>\n",
       "      <td>148.500000</td>\n",
       "      <td>93.500000</td>\n",
       "      <td>2803.500000</td>\n",
       "      <td>15.500000</td>\n",
       "      <td>76.000000</td>\n",
       "    </tr>\n",
       "    <tr>\n",
       "      <th>75%</th>\n",
       "      <td>29.000000</td>\n",
       "      <td>8.000000</td>\n",
       "      <td>262.000000</td>\n",
       "      <td>126.000000</td>\n",
       "      <td>3608.000000</td>\n",
       "      <td>17.175000</td>\n",
       "      <td>79.000000</td>\n",
       "    </tr>\n",
       "    <tr>\n",
       "      <th>max</th>\n",
       "      <td>46.600000</td>\n",
       "      <td>8.000000</td>\n",
       "      <td>455.000000</td>\n",
       "      <td>230.000000</td>\n",
       "      <td>5140.000000</td>\n",
       "      <td>24.800000</td>\n",
       "      <td>82.000000</td>\n",
       "    </tr>\n",
       "  </tbody>\n",
       "</table>\n",
       "</div>"
      ],
      "text/plain": [
       "              mpg   cylinders  displacement  horsepower       weight  \\\n",
       "count  398.000000  398.000000    398.000000  392.000000   398.000000   \n",
       "mean    23.514573    5.454774    193.425879  104.469388  2970.424623   \n",
       "std      7.815984    1.701004    104.269838   38.491160   846.841774   \n",
       "min      9.000000    3.000000     68.000000   46.000000  1613.000000   \n",
       "25%     17.500000    4.000000    104.250000   75.000000  2223.750000   \n",
       "50%     23.000000    4.000000    148.500000   93.500000  2803.500000   \n",
       "75%     29.000000    8.000000    262.000000  126.000000  3608.000000   \n",
       "max     46.600000    8.000000    455.000000  230.000000  5140.000000   \n",
       "\n",
       "       acceleration  model_year  \n",
       "count    398.000000  398.000000  \n",
       "mean      15.568090   76.010050  \n",
       "std        2.757689    3.697627  \n",
       "min        8.000000   70.000000  \n",
       "25%       13.825000   73.000000  \n",
       "50%       15.500000   76.000000  \n",
       "75%       17.175000   79.000000  \n",
       "max       24.800000   82.000000  "
      ]
     },
     "execution_count": 5,
     "metadata": {},
     "output_type": "execute_result"
    }
   ],
   "source": [
    "df.describe()"
   ]
  },
  {
   "cell_type": "code",
   "execution_count": 6,
   "id": "f0c7ca0f-ecdf-44f5-858c-8b1ae5632670",
   "metadata": {
    "execution": {
     "iopub.execute_input": "2025-02-19T07:43:49.365090Z",
     "iopub.status.busy": "2025-02-19T07:43:49.364897Z",
     "iopub.status.idle": "2025-02-19T07:43:50.701881Z",
     "shell.execute_reply": "2025-02-19T07:43:50.701056Z",
     "shell.execute_reply.started": "2025-02-19T07:43:49.365073Z"
    }
   },
   "outputs": [
    {
     "data": {
      "text/plain": [
       "<Figure size 1200x800 with 0 Axes>"
      ]
     },
     "metadata": {},
     "output_type": "display_data"
    },
    {
     "data": {
      "image/png": "[encoded data removed]",
      "text/plain": [
       "<Figure size 1200x800 with 9 Axes>"
      ]
     },
     "metadata": {},
     "output_type": "display_data"
    }
   ],
   "source": [
    "plt.figure(figsize=(12, 8))\n",
    "df.hist(figsize=(12, 8), bins=30, edgecolor='black')\n",
    "plt.suptitle(\"Feature Distributions\", fontsize=16)\n",
    "plt.show()\n"
   ]
  },
  {
   "cell_type": "code",
   "execution_count": 7,
   "id": "3f98107f-4907-40b9-b64c-c3d973faef25",
   "metadata": {
    "execution": {
     "iopub.execute_input": "2025-02-19T07:43:50.703530Z",
     "iopub.status.busy": "2025-02-19T07:43:50.703222Z",
     "iopub.status.idle": "2025-02-19T07:43:50.712685Z",
     "shell.execute_reply": "2025-02-19T07:43:50.711992Z",
     "shell.execute_reply.started": "2025-02-19T07:43:50.703503Z"
    }
   },
   "outputs": [
    {
     "data": {
      "text/plain": [
       "mpg             0\n",
       "cylinders       0\n",
       "displacement    0\n",
       "horsepower      6\n",
       "weight          0\n",
       "acceleration    0\n",
       "model_year      0\n",
       "origin          0\n",
       "name            0\n",
       "dtype: int64"
      ]
     },
     "execution_count": 7,
     "metadata": {},
     "output_type": "execute_result"
    }
   ],
   "source": [
    "df.isnull().sum()\n"
   ]
  },
  {
   "cell_type": "markdown",
   "id": "56554c17-d1d4-436d-8af3-6d29f8d398b3",
   "metadata": {},
   "source": [
    "There are null values in the data for variable horsepower \n",
    "$$\\boxed {\\text{\\ \\ }} $$\n"
   ]
  },
  {
   "cell_type": "code",
   "execution_count": 9,
   "id": "2fe505ac-b8ed-4a16-a6c2-85406c46c446",
   "metadata": {
    "execution": {
     "iopub.execute_input": "2025-02-19T07:43:50.734875Z",
     "iopub.status.busy": "2025-02-19T07:43:50.734059Z",
     "iopub.status.idle": "2025-02-19T07:43:50.755618Z",
     "shell.execute_reply": "2025-02-19T07:43:50.754908Z",
     "shell.execute_reply.started": "2025-02-19T07:43:50.734854Z"
    }
   },
   "outputs": [
    {
     "name": "stdout",
     "output_type": "stream",
     "text": [
      "Shape after dropping missing values: (392, 9)\n"
     ]
    }
   ],
   "source": [
    "# Drop rows with missing values\n",
    "df_drop = df.dropna()\n",
    "print(\"Shape after dropping missing values:\", df_drop.shape)\n"
   ]
  },
  {
   "cell_type": "code",
   "execution_count": 10,
   "id": "e26024bf-9aff-49f2-81f4-272562ece6a4",
   "metadata": {
    "execution": {
     "iopub.execute_input": "2025-02-19T07:43:50.756897Z",
     "iopub.status.busy": "2025-02-19T07:43:50.756583Z",
     "iopub.status.idle": "2025-02-19T07:43:50.777019Z",
     "shell.execute_reply": "2025-02-19T07:43:50.776409Z",
     "shell.execute_reply.started": "2025-02-19T07:43:50.756877Z"
    }
   },
   "outputs": [],
   "source": [
    "# Approach 2: Impute missing values\n",
    "# For numerical columns, we can impute using the mean\n",
    "numerical_cols = df.select_dtypes(include=['float64', 'int64']).columns\n",
    "df_imputed = df.copy()\n",
    "for col in numerical_cols:\n",
    "    if df_imputed[col].isnull().sum() > 0:\n",
    "        mean_value = df_imputed[col].mean()\n",
    "        df_imputed[col].fillna(mean_value, inplace=True)\n"
   ]
  },
  {
   "cell_type": "code",
   "execution_count": 11,
   "id": "2aa2fb60-558a-4e5b-a95b-35770213ec0a",
   "metadata": {
    "execution": {
     "iopub.execute_input": "2025-02-19T07:43:50.778090Z",
     "iopub.status.busy": "2025-02-19T07:43:50.777837Z",
     "iopub.status.idle": "2025-02-19T07:43:50.800184Z",
     "shell.execute_reply": "2025-02-19T07:43:50.799111Z",
     "shell.execute_reply.started": "2025-02-19T07:43:50.778073Z"
    }
   },
   "outputs": [
    {
     "name": "stdout",
     "output_type": "stream",
     "text": [
      "Missing values after imputation:\n",
      "mpg             0\n",
      "cylinders       0\n",
      "displacement    0\n",
      "horsepower      0\n",
      "weight          0\n",
      "acceleration    0\n",
      "model_year      0\n",
      "origin          0\n",
      "name            0\n",
      "dtype: int64\n"
     ]
    }
   ],
   "source": [
    "\n",
    "# For categorical columns, we might choose the mode\n",
    "categorical_cols = df.select_dtypes(include=['object', 'category']).columns\n",
    "for col in categorical_cols:\n",
    "    if df_imputed[col].isnull().sum() > 0:\n",
    "        mode_value = df_imputed[col].mode()[0]\n",
    "        df_imputed[col].fillna(mode_value, inplace=True)\n",
    "\n",
    "print(\"Missing values after imputation:\")\n",
    "print(df_imputed.isnull().sum())"
   ]
  },
  {
   "cell_type": "code",
   "execution_count": 12,
   "id": "6e3b810a-62eb-4b40-bef1-0815d0feac1f",
   "metadata": {
    "execution": {
     "iopub.execute_input": "2025-02-19T07:43:50.801799Z",
     "iopub.status.busy": "2025-02-19T07:43:50.801157Z",
     "iopub.status.idle": "2025-02-19T07:43:50.823852Z",
     "shell.execute_reply": "2025-02-19T07:43:50.822960Z",
     "shell.execute_reply.started": "2025-02-19T07:43:50.801770Z"
    }
   },
   "outputs": [
    {
     "data": {
      "text/plain": [
       "count    392.000000\n",
       "mean     104.469388\n",
       "std       38.491160\n",
       "min       46.000000\n",
       "25%       75.000000\n",
       "50%       93.500000\n",
       "75%      126.000000\n",
       "max      230.000000\n",
       "Name: horsepower, dtype: float64"
      ]
     },
     "execution_count": 12,
     "metadata": {},
     "output_type": "execute_result"
    }
   ],
   "source": [
    "df['horsepower'].describe()"
   ]
  },
  {
   "cell_type": "code",
   "execution_count": 13,
   "id": "5f1bc85f-ffa6-4a47-9377-0eb75ceb08f6",
   "metadata": {
    "execution": {
     "iopub.execute_input": "2025-02-19T07:43:50.825451Z",
     "iopub.status.busy": "2025-02-19T07:43:50.825155Z",
     "iopub.status.idle": "2025-02-19T07:43:50.847096Z",
     "shell.execute_reply": "2025-02-19T07:43:50.846431Z",
     "shell.execute_reply.started": "2025-02-19T07:43:50.825420Z"
    }
   },
   "outputs": [
    {
     "data": {
      "text/plain": [
       "count    398.000000\n",
       "mean     104.469388\n",
       "std       38.199187\n",
       "min       46.000000\n",
       "25%       76.000000\n",
       "50%       95.000000\n",
       "75%      125.000000\n",
       "max      230.000000\n",
       "Name: horsepower, dtype: float64"
      ]
     },
     "execution_count": 13,
     "metadata": {},
     "output_type": "execute_result"
    }
   ],
   "source": [
    "df_imputed['horsepower'].describe()"
   ]
  },
  {
   "cell_type": "code",
   "execution_count": 14,
   "id": "92657933-75a3-4faa-9d39-290628f7944a",
   "metadata": {
    "execution": {
     "iopub.execute_input": "2025-02-19T07:43:50.851294Z",
     "iopub.status.busy": "2025-02-19T07:43:50.850663Z",
     "iopub.status.idle": "2025-02-19T07:43:50.876145Z",
     "shell.execute_reply": "2025-02-19T07:43:50.875582Z",
     "shell.execute_reply.started": "2025-02-19T07:43:50.851263Z"
    }
   },
   "outputs": [
    {
     "data": {
      "text/html": [
       "<div>\n",
       "<style scoped>\n",
       "    .dataframe tbody tr th:only-of-type {\n",
       "        vertical-align: middle;\n",
       "    }\n",
       "\n",
       "    .dataframe tbody tr th {\n",
       "        vertical-align: top;\n",
       "    }\n",
       "\n",
       "    .dataframe thead th {\n",
       "        text-align: right;\n",
       "    }\n",
       "</style>\n",
       "<table border=\"1\" class=\"dataframe\">\n",
       "  <thead>\n",
       "    <tr style=\"text-align: right;\">\n",
       "      <th></th>\n",
       "      <th>mpg</th>\n",
       "      <th>cylinders</th>\n",
       "      <th>displacement</th>\n",
       "      <th>horsepower</th>\n",
       "      <th>weight</th>\n",
       "      <th>acceleration</th>\n",
       "    </tr>\n",
       "  </thead>\n",
       "  <tbody>\n",
       "    <tr>\n",
       "      <th>0</th>\n",
       "      <td>18.0</td>\n",
       "      <td>8</td>\n",
       "      <td>307.0</td>\n",
       "      <td>130.0</td>\n",
       "      <td>3504</td>\n",
       "      <td>12.0</td>\n",
       "    </tr>\n",
       "    <tr>\n",
       "      <th>1</th>\n",
       "      <td>15.0</td>\n",
       "      <td>8</td>\n",
       "      <td>350.0</td>\n",
       "      <td>165.0</td>\n",
       "      <td>3693</td>\n",
       "      <td>11.5</td>\n",
       "    </tr>\n",
       "    <tr>\n",
       "      <th>2</th>\n",
       "      <td>18.0</td>\n",
       "      <td>8</td>\n",
       "      <td>318.0</td>\n",
       "      <td>150.0</td>\n",
       "      <td>3436</td>\n",
       "      <td>11.0</td>\n",
       "    </tr>\n",
       "    <tr>\n",
       "      <th>3</th>\n",
       "      <td>16.0</td>\n",
       "      <td>8</td>\n",
       "      <td>304.0</td>\n",
       "      <td>150.0</td>\n",
       "      <td>3433</td>\n",
       "      <td>12.0</td>\n",
       "    </tr>\n",
       "    <tr>\n",
       "      <th>4</th>\n",
       "      <td>17.0</td>\n",
       "      <td>8</td>\n",
       "      <td>302.0</td>\n",
       "      <td>140.0</td>\n",
       "      <td>3449</td>\n",
       "      <td>10.5</td>\n",
       "    </tr>\n",
       "    <tr>\n",
       "      <th>...</th>\n",
       "      <td>...</td>\n",
       "      <td>...</td>\n",
       "      <td>...</td>\n",
       "      <td>...</td>\n",
       "      <td>...</td>\n",
       "      <td>...</td>\n",
       "    </tr>\n",
       "    <tr>\n",
       "      <th>393</th>\n",
       "      <td>27.0</td>\n",
       "      <td>4</td>\n",
       "      <td>140.0</td>\n",
       "      <td>86.0</td>\n",
       "      <td>2790</td>\n",
       "      <td>15.6</td>\n",
       "    </tr>\n",
       "    <tr>\n",
       "      <th>394</th>\n",
       "      <td>44.0</td>\n",
       "      <td>4</td>\n",
       "      <td>97.0</td>\n",
       "      <td>52.0</td>\n",
       "      <td>2130</td>\n",
       "      <td>24.6</td>\n",
       "    </tr>\n",
       "    <tr>\n",
       "      <th>395</th>\n",
       "      <td>32.0</td>\n",
       "      <td>4</td>\n",
       "      <td>135.0</td>\n",
       "      <td>84.0</td>\n",
       "      <td>2295</td>\n",
       "      <td>11.6</td>\n",
       "    </tr>\n",
       "    <tr>\n",
       "      <th>396</th>\n",
       "      <td>28.0</td>\n",
       "      <td>4</td>\n",
       "      <td>120.0</td>\n",
       "      <td>79.0</td>\n",
       "      <td>2625</td>\n",
       "      <td>18.6</td>\n",
       "    </tr>\n",
       "    <tr>\n",
       "      <th>397</th>\n",
       "      <td>31.0</td>\n",
       "      <td>4</td>\n",
       "      <td>119.0</td>\n",
       "      <td>82.0</td>\n",
       "      <td>2720</td>\n",
       "      <td>19.4</td>\n",
       "    </tr>\n",
       "  </tbody>\n",
       "</table>\n",
       "<p>398 rows × 6 columns</p>\n",
       "</div>"
      ],
      "text/plain": [
       "      mpg  cylinders  displacement  horsepower  weight  acceleration\n",
       "0    18.0          8         307.0       130.0    3504          12.0\n",
       "1    15.0          8         350.0       165.0    3693          11.5\n",
       "2    18.0          8         318.0       150.0    3436          11.0\n",
       "3    16.0          8         304.0       150.0    3433          12.0\n",
       "4    17.0          8         302.0       140.0    3449          10.5\n",
       "..    ...        ...           ...         ...     ...           ...\n",
       "393  27.0          4         140.0        86.0    2790          15.6\n",
       "394  44.0          4          97.0        52.0    2130          24.6\n",
       "395  32.0          4         135.0        84.0    2295          11.6\n",
       "396  28.0          4         120.0        79.0    2625          18.6\n",
       "397  31.0          4         119.0        82.0    2720          19.4\n",
       "\n",
       "[398 rows x 6 columns]"
      ]
     },
     "execution_count": 14,
     "metadata": {},
     "output_type": "execute_result"
    }
   ],
   "source": [
    "df_imputed1 = df_imputed.drop(columns=['name','origin','model_year'])\n",
    "df_imputed1 "
   ]
  },
  {
   "cell_type": "code",
   "execution_count": 15,
   "id": "1c2ae8d9-9248-4e8e-b58a-2735279d4d12",
   "metadata": {
    "execution": {
     "iopub.execute_input": "2025-02-19T07:43:50.877288Z",
     "iopub.status.busy": "2025-02-19T07:43:50.876923Z",
     "iopub.status.idle": "2025-02-19T07:43:50.896828Z",
     "shell.execute_reply": "2025-02-19T07:43:50.896150Z",
     "shell.execute_reply.started": "2025-02-19T07:43:50.877268Z"
    }
   },
   "outputs": [
    {
     "data": {
      "text/html": [
       "<div>\n",
       "<style scoped>\n",
       "    .dataframe tbody tr th:only-of-type {\n",
       "        vertical-align: middle;\n",
       "    }\n",
       "\n",
       "    .dataframe tbody tr th {\n",
       "        vertical-align: top;\n",
       "    }\n",
       "\n",
       "    .dataframe thead th {\n",
       "        text-align: right;\n",
       "    }\n",
       "</style>\n",
       "<table border=\"1\" class=\"dataframe\">\n",
       "  <thead>\n",
       "    <tr style=\"text-align: right;\">\n",
       "      <th></th>\n",
       "      <th>mpg</th>\n",
       "      <th>cylinders</th>\n",
       "      <th>displacement</th>\n",
       "      <th>horsepower</th>\n",
       "      <th>weight</th>\n",
       "      <th>acceleration</th>\n",
       "    </tr>\n",
       "  </thead>\n",
       "  <tbody>\n",
       "    <tr>\n",
       "      <th>mpg</th>\n",
       "      <td>1.000000</td>\n",
       "      <td>-0.775396</td>\n",
       "      <td>-0.804203</td>\n",
       "      <td>-0.771437</td>\n",
       "      <td>-0.831741</td>\n",
       "      <td>0.420289</td>\n",
       "    </tr>\n",
       "    <tr>\n",
       "      <th>cylinders</th>\n",
       "      <td>-0.775396</td>\n",
       "      <td>1.000000</td>\n",
       "      <td>0.950721</td>\n",
       "      <td>0.838939</td>\n",
       "      <td>0.896017</td>\n",
       "      <td>-0.505419</td>\n",
       "    </tr>\n",
       "    <tr>\n",
       "      <th>displacement</th>\n",
       "      <td>-0.804203</td>\n",
       "      <td>0.950721</td>\n",
       "      <td>1.000000</td>\n",
       "      <td>0.893646</td>\n",
       "      <td>0.932824</td>\n",
       "      <td>-0.543684</td>\n",
       "    </tr>\n",
       "    <tr>\n",
       "      <th>horsepower</th>\n",
       "      <td>-0.771437</td>\n",
       "      <td>0.838939</td>\n",
       "      <td>0.893646</td>\n",
       "      <td>1.000000</td>\n",
       "      <td>0.860574</td>\n",
       "      <td>-0.684259</td>\n",
       "    </tr>\n",
       "    <tr>\n",
       "      <th>weight</th>\n",
       "      <td>-0.831741</td>\n",
       "      <td>0.896017</td>\n",
       "      <td>0.932824</td>\n",
       "      <td>0.860574</td>\n",
       "      <td>1.000000</td>\n",
       "      <td>-0.417457</td>\n",
       "    </tr>\n",
       "    <tr>\n",
       "      <th>acceleration</th>\n",
       "      <td>0.420289</td>\n",
       "      <td>-0.505419</td>\n",
       "      <td>-0.543684</td>\n",
       "      <td>-0.684259</td>\n",
       "      <td>-0.417457</td>\n",
       "      <td>1.000000</td>\n",
       "    </tr>\n",
       "  </tbody>\n",
       "</table>\n",
       "</div>"
      ],
      "text/plain": [
       "                   mpg  cylinders  displacement  horsepower    weight  \\\n",
       "mpg           1.000000  -0.775396     -0.804203   -0.771437 -0.831741   \n",
       "cylinders    -0.775396   1.000000      0.950721    0.838939  0.896017   \n",
       "displacement -0.804203   0.950721      1.000000    0.893646  0.932824   \n",
       "horsepower   -0.771437   0.838939      0.893646    1.000000  0.860574   \n",
       "weight       -0.831741   0.896017      0.932824    0.860574  1.000000   \n",
       "acceleration  0.420289  -0.505419     -0.543684   -0.684259 -0.417457   \n",
       "\n",
       "              acceleration  \n",
       "mpg               0.420289  \n",
       "cylinders        -0.505419  \n",
       "displacement     -0.543684  \n",
       "horsepower       -0.684259  \n",
       "weight           -0.417457  \n",
       "acceleration      1.000000  "
      ]
     },
     "execution_count": 15,
     "metadata": {},
     "output_type": "execute_result"
    }
   ],
   "source": [
    "df_imputed1.corr()"
   ]
  },
  {
   "cell_type": "markdown",
   "id": "f6dda474-09fe-46b0-b0f7-99e3faa02bac",
   "metadata": {
    "execution": {
     "iopub.execute_input": "2025-02-18T23:32:59.208225Z",
     "iopub.status.busy": "2025-02-18T23:32:59.207798Z",
     "iopub.status.idle": "2025-02-18T23:32:59.214164Z",
     "shell.execute_reply": "2025-02-18T23:32:59.213071Z",
     "shell.execute_reply.started": "2025-02-18T23:32:59.208189Z"
    }
   },
   "source": [
    " As many of the vairables are highly corelated, we can either scale it and standardrize, to reduce the multicollinearity.\n",
    " I analyzed the correlation matrix and noticed that weight has a very strong negative correlation with mpg (–0.83), making it a primary predictor of fuel efficiency. Although acceleration has a lower correlation (0.42) with mpg, it provides complementary information that isn’t redundant with weight. Since other features like cylinders, displacement, and horsepower are highly correlated with weight, including them would introduce multicollinearity without significantly improving the model. Thus, I chose weight and acceleration as the predictors to maintain simplicity while retaining strong predictive power.\n"
   ]
  },
  {
   "cell_type": "markdown",
   "id": "4e0b5971-1006-43e8-9412-4352fcd3dc72",
   "metadata": {},
   "source": [
    "### Dropping the variables and training the Model basis Corelation"
   ]
  },
  {
   "cell_type": "code",
   "execution_count": 18,
   "id": "468a0d0e-aff9-425b-a497-c311020f0f63",
   "metadata": {
    "execution": {
     "iopub.execute_input": "2025-02-19T07:43:50.947808Z",
     "iopub.status.busy": "2025-02-19T07:43:50.947323Z",
     "iopub.status.idle": "2025-02-19T07:43:50.971790Z",
     "shell.execute_reply": "2025-02-19T07:43:50.971166Z",
     "shell.execute_reply.started": "2025-02-19T07:43:50.947788Z"
    }
   },
   "outputs": [
    {
     "name": "stdout",
     "output_type": "stream",
     "text": [
      "Features after encoding:\n",
      "   weight  acceleration  origin_japan  origin_usa\n",
      "0    3504          12.0         False        True\n",
      "1    3693          11.5         False        True\n",
      "2    3436          11.0         False        True\n",
      "3    3433          12.0         False        True\n",
      "4    3449          10.5         False        True\n"
     ]
    }
   ],
   "source": [
    "# Define the target and features\n",
    "\n",
    "target = df_imputed['mpg']\n",
    "features = df_imputed[['weight', 'acceleration','origin']]\n",
    "# One-hot encode the categorical 'origin' feature\n",
    "features = pd.get_dummies(features, columns=['origin'], drop_first=True)\n",
    "\n",
    "print(\"Features after encoding:\")\n",
    "print(features.head())\n"
   ]
  },
  {
   "cell_type": "code",
   "execution_count": 19,
   "id": "5aa0a8f0-5eca-4640-a8bf-ca58b8739f23",
   "metadata": {
    "execution": {
     "iopub.execute_input": "2025-02-19T07:43:50.973036Z",
     "iopub.status.busy": "2025-02-19T07:43:50.972539Z",
     "iopub.status.idle": "2025-02-19T07:43:50.991158Z",
     "shell.execute_reply": "2025-02-19T07:43:50.990597Z",
     "shell.execute_reply.started": "2025-02-19T07:43:50.973017Z"
    }
   },
   "outputs": [
    {
     "name": "stdout",
     "output_type": "stream",
     "text": [
      "Features after preprocessing:\n",
      "     weight  acceleration  origin_japan  origin_usa\n",
      "0  0.630870     -1.295498         False        True\n",
      "1  0.854333     -1.477038         False        True\n",
      "2  0.550470     -1.658577         False        True\n",
      "3  0.546923     -1.295498         False        True\n",
      "4  0.565841     -1.840117         False        True\n"
     ]
    }
   ],
   "source": [
    "# Optionally, standardize the features\n",
    "scaler = StandardScaler()\n",
    "features[['weight', 'acceleration']] = scaler.fit_transform(features[['weight', 'acceleration']])\n",
    "\n",
    "print(\"Features after preprocessing:\")\n",
    "print(features.head())"
   ]
  },
  {
   "cell_type": "code",
   "execution_count": 20,
   "id": "423b7267-0040-48bb-9909-3ade8de8f287",
   "metadata": {
    "execution": {
     "iopub.execute_input": "2025-02-19T07:43:50.992206Z",
     "iopub.status.busy": "2025-02-19T07:43:50.991949Z",
     "iopub.status.idle": "2025-02-19T07:43:51.014077Z",
     "shell.execute_reply": "2025-02-19T07:43:51.013278Z",
     "shell.execute_reply.started": "2025-02-19T07:43:50.992186Z"
    }
   },
   "outputs": [
    {
     "name": "stdout",
     "output_type": "stream",
     "text": [
      "Training set shape: (318, 4) (318,)\n",
      "Test set shape: (80, 4) (80,)\n"
     ]
    }
   ],
   "source": [
    "# Define the target variable and the features\n",
    "target = df_imputed['mpg']  \n",
    "\n",
    "# Split the data into training (80%) and testing (20%) sets\n",
    "X_train, X_test, y_train, y_test = train_test_split(\n",
    "    features, target, test_size=0.20, random_state=42, shuffle=True\n",
    ")\n",
    "\n",
    "# Display the shapes of the resulting sets\n",
    "print(\"Training set shape:\", X_train.shape, y_train.shape)\n",
    "print(\"Test set shape:\", X_test.shape, y_test.shape)"
   ]
  },
  {
   "cell_type": "markdown",
   "id": "ca3a1f18-c79a-44a5-880c-1289f6374d8e",
   "metadata": {},
   "source": [
    "# Model Implementation"
   ]
  },
  {
   "cell_type": "code",
   "execution_count": 22,
   "id": "727645c7-dae6-4e04-a092-dd11e796b00e",
   "metadata": {
    "execution": {
     "iopub.execute_input": "2025-02-19T07:43:51.040898Z",
     "iopub.status.busy": "2025-02-19T07:43:51.040627Z",
     "iopub.status.idle": "2025-02-19T07:43:51.058878Z",
     "shell.execute_reply": "2025-02-19T07:43:51.058036Z",
     "shell.execute_reply.started": "2025-02-19T07:43:51.040863Z"
    }
   },
   "outputs": [],
   "source": [
    "#pip install torch"
   ]
  },
  {
   "cell_type": "code",
   "execution_count": 23,
   "id": "8531f501-1373-4aed-b774-4e9849cf927d",
   "metadata": {
    "execution": {
     "iopub.execute_input": "2025-02-19T07:43:51.060010Z",
     "iopub.status.busy": "2025-02-19T07:43:51.059743Z",
     "iopub.status.idle": "2025-02-19T07:43:51.077102Z",
     "shell.execute_reply": "2025-02-19T07:43:51.076529Z",
     "shell.execute_reply.started": "2025-02-19T07:43:51.059991Z"
    }
   },
   "outputs": [],
   "source": [
    "#!pip install torch torchvision torchaudio\n"
   ]
  },
  {
   "cell_type": "code",
   "execution_count": 24,
   "id": "83e08431-7526-492e-b058-d32045533086",
   "metadata": {
    "execution": {
     "iopub.execute_input": "2025-02-19T07:43:51.078138Z",
     "iopub.status.busy": "2025-02-19T07:43:51.077886Z",
     "iopub.status.idle": "2025-02-19T07:43:53.457684Z",
     "shell.execute_reply": "2025-02-19T07:43:53.456740Z",
     "shell.execute_reply.started": "2025-02-19T07:43:51.078119Z"
    }
   },
   "outputs": [],
   "source": [
    "import torch\n",
    "import torch.nn as nn\n",
    "import torch.nn.functional as F\n",
    "import numpy as np\n",
    "\n"
   ]
  },
  {
   "cell_type": "code",
   "execution_count": 25,
   "id": "3c7289f8-c344-419c-9be7-5602770f167e",
   "metadata": {
    "execution": {
     "iopub.execute_input": "2025-02-19T07:43:53.459941Z",
     "iopub.status.busy": "2025-02-19T07:43:53.458807Z",
     "iopub.status.idle": "2025-02-19T07:43:53.471164Z",
     "shell.execute_reply": "2025-02-19T07:43:53.470495Z",
     "shell.execute_reply.started": "2025-02-19T07:43:53.459910Z"
    }
   },
   "outputs": [
    {
     "name": "stdout",
     "output_type": "stream",
     "text": [
      "Model architecture:\n",
      "LinearRegressionModel(\n",
      "  (linear): Linear(in_features=4, out_features=1, bias=True)\n",
      ")\n",
      "Total trainable parameters: 5\n"
     ]
    }
   ],
   "source": [
    "# Define a simple linear regression model with one fully-connected layer\n",
    "class LinearRegressionModel(nn.Module):\n",
    "    def __init__(self, input_dim):\n",
    "        super(LinearRegressionModel, self).__init__()\n",
    "        self.linear = nn.Linear(input_dim, 1)  # Single linear layer for predicting mpg\n",
    "        \n",
    "    def forward(self, x):\n",
    "        out = self.linear(x)\n",
    "        return out\n",
    "\n",
    "# Initialize the model; input_dim is the number of features in X_train\n",
    "input_dim = X_train.shape[1]\n",
    "model = LinearRegressionModel(input_dim)\n",
    "\n",
    "# Utility function to initialize weights and biases using Xavier initialization\n",
    "def init_weights(m):\n",
    "    if isinstance(m, nn.Linear):\n",
    "        nn.init.xavier_uniform_(m.weight)\n",
    "        m.bias.data.fill_(0.0)\n",
    "\n",
    "model.apply(init_weights)\n",
    "\n",
    "# Print model architecture and number of trainable parameters\n",
    "print(\"Model architecture:\")\n",
    "print(model)\n",
    "total_params = sum(p.numel() for p in model.parameters() if p.requires_grad)\n",
    "print(\"Total trainable parameters:\", total_params)\n",
    "\n"
   ]
  },
  {
   "cell_type": "code",
   "execution_count": 26,
   "id": "e5499df2-35b7-4330-9b30-c16342490f0f",
   "metadata": {
    "execution": {
     "iopub.execute_input": "2025-02-19T07:43:53.472683Z",
     "iopub.status.busy": "2025-02-19T07:43:53.472250Z",
     "iopub.status.idle": "2025-02-19T07:43:53.494331Z",
     "shell.execute_reply": "2025-02-19T07:43:53.493769Z",
     "shell.execute_reply.started": "2025-02-19T07:43:53.472654Z"
    }
   },
   "outputs": [],
   "source": [
    "# Define the loss function (Mean Squared Error)\n",
    "criterion = nn.MSELoss()\n",
    "\n",
    "# Set the learning rate for our manual SGD\n",
    "learning_rate = 0.01\n",
    "\n"
   ]
  },
  {
   "cell_type": "code",
   "execution_count": 27,
   "id": "0e56d3ef-2b8b-4ecd-91ad-e2b100173044",
   "metadata": {
    "execution": {
     "iopub.execute_input": "2025-02-19T07:43:53.495845Z",
     "iopub.status.busy": "2025-02-19T07:43:53.495082Z",
     "iopub.status.idle": "2025-02-19T07:43:53.518794Z",
     "shell.execute_reply": "2025-02-19T07:43:53.518108Z",
     "shell.execute_reply.started": "2025-02-19T07:43:53.495819Z"
    }
   },
   "outputs": [
    {
     "name": "stdout",
     "output_type": "stream",
     "text": [
      "X_train_tensor dtype: torch.float32\n",
      "y_train_tensor shape: torch.Size([318, 1])\n"
     ]
    }
   ],
   "source": [
    "X_train_tensor = torch.tensor(X_train.to_numpy().astype(np.float32))\n",
    "y_train_tensor = torch.tensor(y_train.to_numpy().astype(np.float32)).reshape(-1, 1)\n",
    "\n",
    "print(\"X_train_tensor dtype:\", X_train_tensor.dtype)\n",
    "print(\"y_train_tensor shape:\", y_train_tensor.shape)"
   ]
  },
  {
   "cell_type": "code",
   "execution_count": 28,
   "id": "26820a01-3085-482b-9fcd-88f8aa1854f1",
   "metadata": {
    "execution": {
     "iopub.execute_input": "2025-02-19T07:43:53.520646Z",
     "iopub.status.busy": "2025-02-19T07:43:53.520166Z",
     "iopub.status.idle": "2025-02-19T07:43:53.575411Z",
     "shell.execute_reply": "2025-02-19T07:43:53.574526Z",
     "shell.execute_reply.started": "2025-02-19T07:43:53.520617Z"
    }
   },
   "outputs": [
    {
     "name": "stdout",
     "output_type": "stream",
     "text": [
      "Epoch [10/100], Loss: 401.6545\n",
      "Epoch [20/100], Loss: 244.2771\n",
      "Epoch [30/100], Loss: 153.9754\n",
      "Epoch [40/100], Loss: 101.8332\n",
      "Epoch [50/100], Loss: 71.4895\n",
      "Epoch [60/100], Loss: 53.6577\n",
      "Epoch [70/100], Loss: 43.0479\n",
      "Epoch [80/100], Loss: 36.6347\n",
      "Epoch [90/100], Loss: 32.6801\n",
      "Epoch [100/100], Loss: 30.1804\n",
      "Training complete!\n"
     ]
    }
   ],
   "source": [
    "# Number of epochs for training\n",
    "num_epochs = 100\n",
    "loss_history = []\n",
    "\n",
    "for epoch in range(num_epochs):\n",
    "    model.train()  # Set the model to training mode\n",
    "    \n",
    "    # Forward pass: compute predicted mpg\n",
    "    outputs = model(X_train_tensor)\n",
    "    loss = criterion(outputs, y_train_tensor)\n",
    "    \n",
    "    # Backward pass: compute gradients\n",
    "    loss.backward()\n",
    "    \n",
    "    # Manually update parameters using SGD\n",
    "    with torch.no_grad():\n",
    "        for param in model.parameters():\n",
    "            param -= learning_rate * param.grad\n",
    "    \n",
    "    # Zero the gradients after updating\n",
    "    model.zero_grad()\n",
    "    \n",
    "    # Store and print the loss for monitoring\n",
    "    loss_history.append(loss.item())\n",
    "    if (epoch+1) % 10 == 0:\n",
    "        print(f\"Epoch [{epoch+1}/{num_epochs}], Loss: {loss.item():.4f}\")\n",
    "\n",
    "print(\"Training complete!\")\n"
   ]
  },
  {
   "cell_type": "code",
   "execution_count": 29,
   "id": "c789433c-5b39-495f-846e-c72b1fc6b4dc",
   "metadata": {
    "execution": {
     "iopub.execute_input": "2025-02-19T07:43:53.576934Z",
     "iopub.status.busy": "2025-02-19T07:43:53.576400Z",
     "iopub.status.idle": "2025-02-19T07:43:53.799210Z",
     "shell.execute_reply": "2025-02-19T07:43:53.798262Z",
     "shell.execute_reply.started": "2025-02-19T07:43:53.576911Z"
    }
   },
   "outputs": [
    {
     "data": {
      "image/png": "[encoded data removed]",
      "text/plain": [
       "<Figure size 800x500 with 1 Axes>"
      ]
     },
     "metadata": {},
     "output_type": "display_data"
    }
   ],
   "source": [
    "import matplotlib.pyplot as plt\n",
    "\n",
    "plt.figure(figsize=(8, 5))\n",
    "plt.plot(loss_history, label='Training Loss', marker='o')\n",
    "plt.xlabel(\"Epoch\")\n",
    "plt.ylabel(\"MSE Loss\")\n",
    "plt.title(\"Training Loss over Epochs\")\n",
    "plt.legend()\n",
    "plt.show()\n"
   ]
  },
  {
   "cell_type": "code",
   "execution_count": 30,
   "id": "ef1bf40b-d75e-40e5-a23d-3e6b80ff29de",
   "metadata": {
    "execution": {
     "iopub.execute_input": "2025-02-19T07:43:53.800971Z",
     "iopub.status.busy": "2025-02-19T07:43:53.800496Z",
     "iopub.status.idle": "2025-02-19T07:43:53.805924Z",
     "shell.execute_reply": "2025-02-19T07:43:53.805097Z",
     "shell.execute_reply.started": "2025-02-19T07:43:53.800942Z"
    }
   },
   "outputs": [],
   "source": [
    "# Convert test features and target into PyTorch tensors\n",
    "X_test_tensor = torch.tensor(X_test.to_numpy().astype(np.float32))\n",
    "y_test_tensor = torch.tensor(y_test.to_numpy().astype(np.float32)).reshape(-1, 1)\n"
   ]
  },
  {
   "cell_type": "code",
   "execution_count": 31,
   "id": "972f3c5c-1999-407e-9571-bc44f4663b0a",
   "metadata": {
    "execution": {
     "iopub.execute_input": "2025-02-19T07:43:53.807398Z",
     "iopub.status.busy": "2025-02-19T07:43:53.806892Z",
     "iopub.status.idle": "2025-02-19T07:43:53.827768Z",
     "shell.execute_reply": "2025-02-19T07:43:53.826949Z",
     "shell.execute_reply.started": "2025-02-19T07:43:53.807342Z"
    }
   },
   "outputs": [],
   "source": [
    "model.eval()  # Set model to evaluation mode\n",
    "\n",
    "with torch.no_grad():\n",
    "    predictions = model(X_test_tensor)\n"
   ]
  },
  {
   "cell_type": "code",
   "execution_count": 32,
   "id": "d052914b-067f-4006-8290-a3c761c639d8",
   "metadata": {
    "execution": {
     "iopub.execute_input": "2025-02-19T07:43:53.829529Z",
     "iopub.status.busy": "2025-02-19T07:43:53.828988Z",
     "iopub.status.idle": "2025-02-19T07:43:53.854240Z",
     "shell.execute_reply": "2025-02-19T07:43:53.852909Z",
     "shell.execute_reply.started": "2025-02-19T07:43:53.829500Z"
    }
   },
   "outputs": [
    {
     "name": "stdout",
     "output_type": "stream",
     "text": [
      "Test MSE: 20.1928\n",
      "Test R² Score: 0.6244\n"
     ]
    }
   ],
   "source": [
    "from sklearn.metrics import mean_squared_error, r2_score\n",
    "\n",
    "# Convert predictions and true values from tensors to numpy arrays for metric calculations\n",
    "predictions_np = predictions.detach().numpy().squeeze()\n",
    "y_test_np = y_test_tensor.numpy().squeeze()\n",
    "\n",
    "# Calculate Mean Squared Error (MSE) and R² Score\n",
    "mse_reduced = mean_squared_error(y_test_np, predictions_np)\n",
    "r2_reduced = r2_score(y_test_np, predictions_np)\n",
    "\n",
    "print(f\"Test MSE: {mse_reduced:.4f}\")\n",
    "print(f\"Test R² Score: {r2_reduced:.4f}\")\n"
   ]
  },
  {
   "cell_type": "code",
   "execution_count": 33,
   "id": "f42ae96d-074e-4f95-9ed2-c776de8a5679",
   "metadata": {
    "execution": {
     "iopub.execute_input": "2025-02-19T07:43:53.855596Z",
     "iopub.status.busy": "2025-02-19T07:43:53.855236Z",
     "iopub.status.idle": "2025-02-19T07:43:54.115481Z",
     "shell.execute_reply": "2025-02-19T07:43:54.114584Z",
     "shell.execute_reply.started": "2025-02-19T07:43:53.855577Z"
    }
   },
   "outputs": [
    {
     "data": {
      "image/png": "[encoded data removed]",
      "text/plain": [
       "<Figure size 800x600 with 1 Axes>"
      ]
     },
     "metadata": {},
     "output_type": "display_data"
    }
   ],
   "source": [
    "plt.figure(figsize=(8, 6))\n",
    "plt.scatter(y_test_np, predictions_np, alpha=0.6)\n",
    "plt.xlabel(\"True mpg\")\n",
    "plt.ylabel(\"Predicted mpg\")\n",
    "plt.title(\"True vs. Predicted mpg\")\n",
    "# Plot a line indicating perfect predictions\n",
    "min_val = min(y_test_np.min(), predictions_np.min())\n",
    "max_val = max(y_test_np.max(), predictions_np.max())\n",
    "plt.plot([min_val, max_val], [min_val, max_val], 'r--', label=\"Perfect Prediction\")\n",
    "plt.legend()\n",
    "plt.show()\n"
   ]
  },
  {
   "cell_type": "code",
   "execution_count": null,
   "id": "8c2ec9bf-6a97-4b54-affc-58662390bad2",
   "metadata": {},
   "outputs": [],
   "source": []
  },
  {
   "cell_type": "markdown",
   "id": "84771f32-af6a-439d-80ed-fbff292b3fa3",
   "metadata": {},
   "source": [
    "# Analysis"
   ]
  },
  {
   "cell_type": "markdown",
   "id": "daa44d6e-aff3-4535-9305-5105c04618c9",
   "metadata": {},
   "source": [
    "Performance Analysis:\n",
    "Our linear regression model performed reasonably well on the test set. The Mean Squared Error (MSE) and R² score suggest that the model is generally capturing the trend in mpg, though there is still some unexplained variation. The scatter plot of actual versus predicted mpg values confirms that our predictions follow the overall pattern, but the deviations indicate that our model might be a bit too simple, leading to some underfitting.\n",
    "\n",
    "Challenges:\n",
    "During this project, a few challenges came up:\n",
    "\n",
    "**Preprocessing**: We had to carefully handle missing values and make sure that all our features were on the same scale through normalization. This step was crucial to ensure our model learned effectively.\n",
    "Manual Optimization: Implementing our own version of the Stochastic Gradient Descent (SGD) optimizer was a bit tricky. Keeping track of the gradients and resetting them after each update was essential to avoid errors and ensure proper convergence.\n",
    "\n",
    "**Model Simplicity**: While a basic linear regression model is great for interpretability, it might not be complex enough to capture all the factors affecting mpg, especially when using only two predictors like weight and acceleration.\n",
    "Suggestions for Improvement:\n",
    "Looking ahead, there are several ways to boost the model’s performance:\n",
    "\n",
    "**Feature Engineering**: Adding more features or even creating polynomial features could help capture non-linear relationships that our current model misses.\n",
    "\n",
    "**Hyperparameter** Tuning: Experimenting with different learning rates, batch sizes, and training durations might lead to better results.\n",
    "Advanced Models & Regularization: Exploring more complex models (such as deeper neural networks) or incorporating regularization techniques (like L1 or L2 regularization) could help address underfitting and improve the overall predictive power of the model.\n"
   ]
  },
  {
   "cell_type": "markdown",
   "id": "c5b6f13e-554c-4c58-bafc-34ecddb0bf5d",
   "metadata": {},
   "source": [
    "# Model with all the features"
   ]
  },
  {
   "cell_type": "code",
   "execution_count": 37,
   "id": "59cf8284-1177-4077-85cc-cec1a31c2b46",
   "metadata": {
    "execution": {
     "iopub.execute_input": "2025-02-19T07:43:54.195777Z",
     "iopub.status.busy": "2025-02-19T07:43:54.195143Z",
     "iopub.status.idle": "2025-02-19T07:43:54.220496Z",
     "shell.execute_reply": "2025-02-19T07:43:54.219404Z",
     "shell.execute_reply.started": "2025-02-19T07:43:54.195748Z"
    }
   },
   "outputs": [
    {
     "name": "stdout",
     "output_type": "stream",
     "text": [
      "Columns in the dataset: ['mpg', 'cylinders', 'displacement', 'horsepower', 'weight', 'acceleration', 'model_year', 'origin', 'name']\n"
     ]
    }
   ],
   "source": [
    "# Display the columns to verify what we have:\n",
    "print(\"Columns in the dataset:\", df_imputed.columns.tolist())\n",
    "# Expected: ['mpg', 'cylinders', 'displacement', 'horsepower', 'weight', 'acceleration', 'model_year', 'origin']\n"
   ]
  },
  {
   "cell_type": "code",
   "execution_count": 38,
   "id": "cb348f58-9e9b-4c4a-96af-443485fadac8",
   "metadata": {
    "execution": {
     "iopub.execute_input": "2025-02-19T07:43:54.222500Z",
     "iopub.status.busy": "2025-02-19T07:43:54.221697Z",
     "iopub.status.idle": "2025-02-19T07:43:54.253650Z",
     "shell.execute_reply": "2025-02-19T07:43:54.252998Z",
     "shell.execute_reply.started": "2025-02-19T07:43:54.222472Z"
    }
   },
   "outputs": [
    {
     "data": {
      "text/html": [
       "<div>\n",
       "<style scoped>\n",
       "    .dataframe tbody tr th:only-of-type {\n",
       "        vertical-align: middle;\n",
       "    }\n",
       "\n",
       "    .dataframe tbody tr th {\n",
       "        vertical-align: top;\n",
       "    }\n",
       "\n",
       "    .dataframe thead th {\n",
       "        text-align: right;\n",
       "    }\n",
       "</style>\n",
       "<table border=\"1\" class=\"dataframe\">\n",
       "  <thead>\n",
       "    <tr style=\"text-align: right;\">\n",
       "      <th></th>\n",
       "      <th>cylinders</th>\n",
       "      <th>displacement</th>\n",
       "      <th>horsepower</th>\n",
       "      <th>weight</th>\n",
       "      <th>acceleration</th>\n",
       "      <th>model_year</th>\n",
       "      <th>origin</th>\n",
       "    </tr>\n",
       "  </thead>\n",
       "  <tbody>\n",
       "    <tr>\n",
       "      <th>0</th>\n",
       "      <td>8</td>\n",
       "      <td>307.0</td>\n",
       "      <td>130.0</td>\n",
       "      <td>3504</td>\n",
       "      <td>12.0</td>\n",
       "      <td>70</td>\n",
       "      <td>usa</td>\n",
       "    </tr>\n",
       "    <tr>\n",
       "      <th>1</th>\n",
       "      <td>8</td>\n",
       "      <td>350.0</td>\n",
       "      <td>165.0</td>\n",
       "      <td>3693</td>\n",
       "      <td>11.5</td>\n",
       "      <td>70</td>\n",
       "      <td>usa</td>\n",
       "    </tr>\n",
       "    <tr>\n",
       "      <th>2</th>\n",
       "      <td>8</td>\n",
       "      <td>318.0</td>\n",
       "      <td>150.0</td>\n",
       "      <td>3436</td>\n",
       "      <td>11.0</td>\n",
       "      <td>70</td>\n",
       "      <td>usa</td>\n",
       "    </tr>\n",
       "    <tr>\n",
       "      <th>3</th>\n",
       "      <td>8</td>\n",
       "      <td>304.0</td>\n",
       "      <td>150.0</td>\n",
       "      <td>3433</td>\n",
       "      <td>12.0</td>\n",
       "      <td>70</td>\n",
       "      <td>usa</td>\n",
       "    </tr>\n",
       "    <tr>\n",
       "      <th>4</th>\n",
       "      <td>8</td>\n",
       "      <td>302.0</td>\n",
       "      <td>140.0</td>\n",
       "      <td>3449</td>\n",
       "      <td>10.5</td>\n",
       "      <td>70</td>\n",
       "      <td>usa</td>\n",
       "    </tr>\n",
       "    <tr>\n",
       "      <th>...</th>\n",
       "      <td>...</td>\n",
       "      <td>...</td>\n",
       "      <td>...</td>\n",
       "      <td>...</td>\n",
       "      <td>...</td>\n",
       "      <td>...</td>\n",
       "      <td>...</td>\n",
       "    </tr>\n",
       "    <tr>\n",
       "      <th>393</th>\n",
       "      <td>4</td>\n",
       "      <td>140.0</td>\n",
       "      <td>86.0</td>\n",
       "      <td>2790</td>\n",
       "      <td>15.6</td>\n",
       "      <td>82</td>\n",
       "      <td>usa</td>\n",
       "    </tr>\n",
       "    <tr>\n",
       "      <th>394</th>\n",
       "      <td>4</td>\n",
       "      <td>97.0</td>\n",
       "      <td>52.0</td>\n",
       "      <td>2130</td>\n",
       "      <td>24.6</td>\n",
       "      <td>82</td>\n",
       "      <td>europe</td>\n",
       "    </tr>\n",
       "    <tr>\n",
       "      <th>395</th>\n",
       "      <td>4</td>\n",
       "      <td>135.0</td>\n",
       "      <td>84.0</td>\n",
       "      <td>2295</td>\n",
       "      <td>11.6</td>\n",
       "      <td>82</td>\n",
       "      <td>usa</td>\n",
       "    </tr>\n",
       "    <tr>\n",
       "      <th>396</th>\n",
       "      <td>4</td>\n",
       "      <td>120.0</td>\n",
       "      <td>79.0</td>\n",
       "      <td>2625</td>\n",
       "      <td>18.6</td>\n",
       "      <td>82</td>\n",
       "      <td>usa</td>\n",
       "    </tr>\n",
       "    <tr>\n",
       "      <th>397</th>\n",
       "      <td>4</td>\n",
       "      <td>119.0</td>\n",
       "      <td>82.0</td>\n",
       "      <td>2720</td>\n",
       "      <td>19.4</td>\n",
       "      <td>82</td>\n",
       "      <td>usa</td>\n",
       "    </tr>\n",
       "  </tbody>\n",
       "</table>\n",
       "<p>398 rows × 7 columns</p>\n",
       "</div>"
      ],
      "text/plain": [
       "     cylinders  displacement  horsepower  weight  acceleration  model_year  \\\n",
       "0            8         307.0       130.0    3504          12.0          70   \n",
       "1            8         350.0       165.0    3693          11.5          70   \n",
       "2            8         318.0       150.0    3436          11.0          70   \n",
       "3            8         304.0       150.0    3433          12.0          70   \n",
       "4            8         302.0       140.0    3449          10.5          70   \n",
       "..         ...           ...         ...     ...           ...         ...   \n",
       "393          4         140.0        86.0    2790          15.6          82   \n",
       "394          4          97.0        52.0    2130          24.6          82   \n",
       "395          4         135.0        84.0    2295          11.6          82   \n",
       "396          4         120.0        79.0    2625          18.6          82   \n",
       "397          4         119.0        82.0    2720          19.4          82   \n",
       "\n",
       "     origin  \n",
       "0       usa  \n",
       "1       usa  \n",
       "2       usa  \n",
       "3       usa  \n",
       "4       usa  \n",
       "..      ...  \n",
       "393     usa  \n",
       "394  europe  \n",
       "395     usa  \n",
       "396     usa  \n",
       "397     usa  \n",
       "\n",
       "[398 rows x 7 columns]"
      ]
     },
     "execution_count": 38,
     "metadata": {},
     "output_type": "execute_result"
    }
   ],
   "source": [
    "\n",
    "# Define the target and features (use all features except 'mpg')\n",
    "target_all = df_imputed['mpg']  \n",
    "features_all = df_imputed.drop(columns=['mpg','name'])\n",
    "features_all"
   ]
  },
  {
   "cell_type": "code",
   "execution_count": 39,
   "id": "f57c52ef-0c80-412a-8f8d-6face309805e",
   "metadata": {
    "execution": {
     "iopub.execute_input": "2025-02-19T07:43:54.254746Z",
     "iopub.status.busy": "2025-02-19T07:43:54.254482Z",
     "iopub.status.idle": "2025-02-19T07:43:54.283945Z",
     "shell.execute_reply": "2025-02-19T07:43:54.283311Z",
     "shell.execute_reply.started": "2025-02-19T07:43:54.254727Z"
    }
   },
   "outputs": [
    {
     "name": "stdout",
     "output_type": "stream",
     "text": [
      "Features after one-hot encoding:\n",
      "   cylinders  displacement  horsepower  weight  acceleration  model_year  \\\n",
      "0          8         307.0       130.0    3504          12.0          70   \n",
      "1          8         350.0       165.0    3693          11.5          70   \n",
      "2          8         318.0       150.0    3436          11.0          70   \n",
      "3          8         304.0       150.0    3433          12.0          70   \n",
      "4          8         302.0       140.0    3449          10.5          70   \n",
      "\n",
      "   origin_japan  origin_usa  \n",
      "0         False        True  \n",
      "1         False        True  \n",
      "2         False        True  \n",
      "3         False        True  \n",
      "4         False        True  \n",
      "Continuous columns to scale: ['cylinders', 'displacement', 'horsepower', 'weight', 'acceleration', 'model_year']\n",
      "Features after scaling continuous variables:\n",
      "   cylinders  displacement  horsepower    weight  acceleration  model_year  \\\n",
      "0   1.498191      1.090604    0.669196  0.630870     -1.295498   -1.627426   \n",
      "1   1.498191      1.503514    1.586599  0.854333     -1.477038   -1.627426   \n",
      "2   1.498191      1.196232    1.193426  0.550470     -1.658577   -1.627426   \n",
      "3   1.498191      1.061796    1.193426  0.546923     -1.295498   -1.627426   \n",
      "4   1.498191      1.042591    0.931311  0.565841     -1.840117   -1.627426   \n",
      "\n",
      "   origin_japan  origin_usa  \n",
      "0         False        True  \n",
      "1         False        True  \n",
      "2         False        True  \n",
      "3         False        True  \n",
      "4         False        True  \n"
     ]
    }
   ],
   "source": [
    "\n",
    "\n",
    "# One-hot encode the categorical 'origin' feature\n",
    "features_all = pd.get_dummies(features_all, columns=['origin'], drop_first=True)\n",
    "\n",
    "print(\"Features after one-hot encoding:\")\n",
    "print(features_all.head())\n",
    "\n",
    "# Identify continuous features (all columns that are not one-hot encoded; here, the one-hot encoded 'origin' columns start with 'origin_')\n",
    "continuous_cols = [col for col in features_all.columns if not col.startswith(\"origin_\")]\n",
    "print(\"Continuous columns to scale:\", continuous_cols)\n",
    "\n",
    "# Standardize the continuous features only\n",
    "scaler = StandardScaler()\n",
    "features_all[continuous_cols] = scaler.fit_transform(features_all[continuous_cols])\n",
    "\n",
    "print(\"Features after scaling continuous variables:\")\n",
    "print(features_all.head())\n",
    "\n"
   ]
  },
  {
   "cell_type": "code",
   "execution_count": 40,
   "id": "456a6dfd-1fe3-4228-8bbb-0f5780055c07",
   "metadata": {
    "execution": {
     "iopub.execute_input": "2025-02-19T07:43:54.284956Z",
     "iopub.status.busy": "2025-02-19T07:43:54.284751Z",
     "iopub.status.idle": "2025-02-19T07:43:54.301028Z",
     "shell.execute_reply": "2025-02-19T07:43:54.300187Z",
     "shell.execute_reply.started": "2025-02-19T07:43:54.284939Z"
    }
   },
   "outputs": [
    {
     "name": "stdout",
     "output_type": "stream",
     "text": [
      "Training set shape: (318, 8) (318,)\n",
      "Test set shape: (80, 8) (80,)\n"
     ]
    }
   ],
   "source": [
    "\n",
    "##############################\n",
    "# 2. Train-Test Split\n",
    "##############################\n",
    "\n",
    "X_train_all, X_test_all, y_train_all, y_test_all = train_test_split(\n",
    "    features_all, target_all, test_size=0.20, random_state=42, shuffle=True\n",
    ")\n",
    "\n",
    "print(\"Training set shape:\", X_train_all.shape, y_train.shape)\n",
    "print(\"Test set shape:\", X_test_all.shape, y_test.shape)\n"
   ]
  },
  {
   "cell_type": "code",
   "execution_count": 41,
   "id": "371e3bd4-70c7-4732-919b-c06eed3b16d2",
   "metadata": {
    "execution": {
     "iopub.execute_input": "2025-02-19T07:43:54.315923Z",
     "iopub.status.busy": "2025-02-19T07:43:54.315290Z",
     "iopub.status.idle": "2025-02-19T07:43:54.375883Z",
     "shell.execute_reply": "2025-02-19T07:43:54.375013Z",
     "shell.execute_reply.started": "2025-02-19T07:43:54.315881Z"
    }
   },
   "outputs": [
    {
     "name": "stdout",
     "output_type": "stream",
     "text": [
      "Model architecture:\n",
      "LinearRegressionModel(\n",
      "  (linear): Linear(in_features=8, out_features=1, bias=True)\n",
      ")\n",
      "Total trainable parameters: 9\n",
      "X_train_tensor dtype: torch.float32\n",
      "y_train_tensor shape: torch.Size([318, 1])\n",
      "Epoch [10/100], Loss: 368.3487\n",
      "Epoch [20/100], Loss: 215.8720\n",
      "Epoch [30/100], Loss: 132.1294\n",
      "Epoch [40/100], Loss: 85.4417\n",
      "Epoch [50/100], Loss: 59.1507\n",
      "Epoch [60/100], Loss: 44.1839\n",
      "Epoch [70/100], Loss: 35.5383\n",
      "Epoch [80/100], Loss: 30.4403\n",
      "Epoch [90/100], Loss: 27.3470\n",
      "Epoch [100/100], Loss: 25.3968\n",
      "Training complete!\n"
     ]
    }
   ],
   "source": [
    "##############################\n",
    "# 3. Define and Train the Model\n",
    "##############################\n",
    "\n",
    "# Define a simple linear regression model\n",
    "class LinearRegressionModel(nn.Module):\n",
    "    def __init__(self, input_dim):\n",
    "        super(LinearRegressionModel, self).__init__()\n",
    "        self.linear = nn.Linear(input_dim, 1)  # Single linear layer for predicting mpg\n",
    "        \n",
    "    def forward(self, x):\n",
    "        return self.linear(x)\n",
    "\n",
    "input_dim = X_train_all.shape[1]\n",
    "model = LinearRegressionModel(input_dim)\n",
    "\n",
    "# Weight initialization using Xavier\n",
    "def init_weights(m):\n",
    "    if isinstance(m, nn.Linear):\n",
    "        nn.init.xavier_uniform_(m.weight)\n",
    "        m.bias.data.fill_(0.0)\n",
    "\n",
    "model.apply(init_weights)\n",
    "\n",
    "print(\"Model architecture:\")\n",
    "print(model)\n",
    "total_params = sum(p.numel() for p in model.parameters() if p.requires_grad)\n",
    "print(\"Total trainable parameters:\", total_params)\n",
    "\n",
    "# Loss function and learning rate\n",
    "criterion = nn.MSELoss()\n",
    "learning_rate = 0.01\n",
    "\n",
    "# Convert training data to PyTorch tensors\n",
    "X_train_tensor_all = torch.tensor(X_train_all.to_numpy().astype(np.float32))\n",
    "y_train_tensor_all = torch.tensor(y_train_all.to_numpy().astype(np.float32)).reshape(-1, 1)\n",
    "\n",
    "print(\"X_train_tensor dtype:\", X_train_tensor_all.dtype)\n",
    "print(\"y_train_tensor shape:\", y_train_tensor_all.shape)\n",
    "\n",
    "# Number of epochs for training\n",
    "num_epochs = 100\n",
    "loss_history_all = []\n",
    "\n",
    "for epoch in range(num_epochs):\n",
    "    model.train()  # Set the model to training mode\n",
    "    \n",
    "    # Forward pass: compute predicted mpg\n",
    "    outputs_all = model(X_train_tensor_all)\n",
    "    loss = criterion(outputs_all, y_train_tensor_all)\n",
    "    \n",
    "    # Backward pass: compute gradients\n",
    "    loss.backward()\n",
    "    \n",
    "    # Manually update parameters using SGD\n",
    "    with torch.no_grad():\n",
    "        for param in model.parameters():\n",
    "            param -= learning_rate * param.grad\n",
    "    \n",
    "    # Zero the gradients after updating\n",
    "    model.zero_grad()\n",
    "    \n",
    "    # Store and print the loss for monitoring\n",
    "    loss_history_all.append(loss.item())\n",
    "    if (epoch+1) % 10 == 0:\n",
    "        print(f\"Epoch [{epoch+1}/{num_epochs}], Loss: {loss.item():.4f}\")\n",
    "\n",
    "print(\"Training complete!\")\n",
    "\n"
   ]
  },
  {
   "cell_type": "code",
   "execution_count": 42,
   "id": "a1253add-98e1-40bd-a059-1d27bc4a6ab9",
   "metadata": {
    "execution": {
     "iopub.execute_input": "2025-02-19T07:43:54.377370Z",
     "iopub.status.busy": "2025-02-19T07:43:54.376798Z",
     "iopub.status.idle": "2025-02-19T07:43:54.566023Z",
     "shell.execute_reply": "2025-02-19T07:43:54.565253Z",
     "shell.execute_reply.started": "2025-02-19T07:43:54.377337Z"
    }
   },
   "outputs": [
    {
     "data": {
      "image/png": "[encoded data removed]",
      "text/plain": [
       "<Figure size 800x500 with 1 Axes>"
      ]
     },
     "metadata": {},
     "output_type": "display_data"
    }
   ],
   "source": [
    "##############################\n",
    "# 4. Visualization and Evaluation\n",
    "##############################\n",
    "\n",
    "# Plot training loss\n",
    "plt.figure(figsize=(8, 5))\n",
    "plt.plot(loss_history_all, label='Training Loss', marker='o')\n",
    "plt.xlabel(\"Epoch\")\n",
    "plt.ylabel(\"MSE Loss\")\n",
    "plt.title(\"Training Loss over Epochs\")\n",
    "plt.legend()\n",
    "plt.show()\n",
    "\n",
    "# Convert test data to PyTorch tensors\n",
    "X_test_tensor_all = torch.tensor(X_test_all.to_numpy().astype(np.float32))\n",
    "y_test_tensor_all = torch.tensor(y_test_all.to_numpy().astype(np.float32)).reshape(-1, 1)\n",
    "\n",
    "model.eval()  # Set model to evaluation mode\n",
    "with torch.no_grad():\n",
    "    predictions = model(X_test_tensor_all)\n",
    "\n",
    "# Convert predictions and true values to numpy arrays\n",
    "predictions_np_all = predictions.detach().numpy().squeeze()\n",
    "y_test_np_all = y_test_tensor_all.numpy().squeeze()\n",
    "\n",
    "# Calculate evaluation metrics\n",
    "mse_all = mean_squared_error(y_test_np, predictions_np)\n",
    "r2_all = r2_score(y_test_np, predictions_np)\n",
    "\n"
   ]
  },
  {
   "cell_type": "code",
   "execution_count": 43,
   "id": "c241174b-8382-4298-8481-87fd43a7ad5e",
   "metadata": {
    "execution": {
     "iopub.execute_input": "2025-02-19T07:43:54.567580Z",
     "iopub.status.busy": "2025-02-19T07:43:54.567233Z",
     "iopub.status.idle": "2025-02-19T07:43:54.794307Z",
     "shell.execute_reply": "2025-02-19T07:43:54.793567Z",
     "shell.execute_reply.started": "2025-02-19T07:43:54.567557Z"
    }
   },
   "outputs": [
    {
     "name": "stdout",
     "output_type": "stream",
     "text": [
      "Test MSE: 20.1928\n",
      "Test R² Score: 0.6244\n"
     ]
    },
    {
     "data": {
      "image/png": "[encoded data removed]",
      "text/plain": [
       "<Figure size 800x600 with 1 Axes>"
      ]
     },
     "metadata": {},
     "output_type": "display_data"
    }
   ],
   "source": [
    "print(f\"Test MSE: {mse_all:.4f}\")\n",
    "print(f\"Test R² Score: {r2_all:.4f}\")\n",
    "\n",
    "# Scatter plot: True vs. Predicted mpg\n",
    "plt.figure(figsize=(8, 6))\n",
    "plt.scatter(y_test_np, predictions_np, alpha=0.6)\n",
    "plt.xlabel(\"True mpg\")\n",
    "plt.ylabel(\"Predicted mpg\")\n",
    "plt.title(\"True vs. Predicted mpg\")\n",
    "min_val = min(y_test_np.min(), predictions_np.min())\n",
    "max_val = max(y_test_np.max(), predictions_np.max())\n",
    "plt.plot([min_val, max_val], [min_val, max_val], 'r--', label=\"Perfect Prediction\")\n",
    "plt.legend()\n",
    "plt.show()\n"
   ]
  },
  {
   "cell_type": "markdown",
   "id": "12b92030-b215-4321-8c36-462aa15c4542",
   "metadata": {},
   "source": [
    "##### The model using selected features achieved a Test MSE of 20.8801 and an R² of 0.6117, outperforming the model built with all features, which had a Test MSE of 24.9923 and an R² of 0.5103. This suggests that additional features introduced noise or redundant information that reduced predictive performance. In short, careful feature selection resulted in a simpler model that better generalizes to unseen data."
   ]
  },
  {
   "cell_type": "markdown",
   "id": "93d62dff-2938-4472-b1cf-d62d98d44b71",
   "metadata": {
    "execution": {
     "iopub.execute_input": "2025-02-19T03:03:46.274352Z",
     "iopub.status.busy": "2025-02-19T03:03:46.273855Z",
     "iopub.status.idle": "2025-02-19T03:03:46.278555Z",
     "shell.execute_reply": "2025-02-19T03:03:46.277840Z",
     "shell.execute_reply.started": "2025-02-19T03:03:46.274316Z"
    }
   },
   "source": [
    "# #######################"
   ]
  },
  {
   "cell_type": "markdown",
   "id": "a85aafe4-6d24-40c2-b071-48e0a29d6f25",
   "metadata": {},
   "source": [
    "# Model with all the features and using regularization"
   ]
  },
  {
   "cell_type": "code",
   "execution_count": 47,
   "id": "ad98b9ae-ca03-4266-8e10-ca1a7211b168",
   "metadata": {
    "execution": {
     "iopub.execute_input": "2025-02-19T07:43:54.907301Z",
     "iopub.status.busy": "2025-02-19T07:43:54.906864Z",
     "iopub.status.idle": "2025-02-19T07:43:54.926355Z",
     "shell.execute_reply": "2025-02-19T07:43:54.925582Z",
     "shell.execute_reply.started": "2025-02-19T07:43:54.907273Z"
    }
   },
   "outputs": [],
   "source": [
    "features_full = df_imputed.drop(columns=['mpg'])\n",
    "target_full = df_imputed['mpg']"
   ]
  },
  {
   "cell_type": "code",
   "execution_count": 48,
   "id": "0246cbb3-dd35-4383-9a70-d16227c72ae0",
   "metadata": {
    "execution": {
     "iopub.execute_input": "2025-02-19T07:43:54.928061Z",
     "iopub.status.busy": "2025-02-19T07:43:54.927585Z",
     "iopub.status.idle": "2025-02-19T07:43:54.961447Z",
     "shell.execute_reply": "2025-02-19T07:43:54.960588Z",
     "shell.execute_reply.started": "2025-02-19T07:43:54.928039Z"
    }
   },
   "outputs": [
    {
     "data": {
      "text/html": [
       "<div>\n",
       "<style scoped>\n",
       "    .dataframe tbody tr th:only-of-type {\n",
       "        vertical-align: middle;\n",
       "    }\n",
       "\n",
       "    .dataframe tbody tr th {\n",
       "        vertical-align: top;\n",
       "    }\n",
       "\n",
       "    .dataframe thead th {\n",
       "        text-align: right;\n",
       "    }\n",
       "</style>\n",
       "<table border=\"1\" class=\"dataframe\">\n",
       "  <thead>\n",
       "    <tr style=\"text-align: right;\">\n",
       "      <th></th>\n",
       "      <th>cylinders</th>\n",
       "      <th>displacement</th>\n",
       "      <th>horsepower</th>\n",
       "      <th>weight</th>\n",
       "      <th>acceleration</th>\n",
       "      <th>model_year</th>\n",
       "      <th>name</th>\n",
       "      <th>origin_japan</th>\n",
       "      <th>origin_usa</th>\n",
       "    </tr>\n",
       "  </thead>\n",
       "  <tbody>\n",
       "    <tr>\n",
       "      <th>0</th>\n",
       "      <td>8</td>\n",
       "      <td>307.0</td>\n",
       "      <td>130.0</td>\n",
       "      <td>3504</td>\n",
       "      <td>12.0</td>\n",
       "      <td>70</td>\n",
       "      <td>chevrolet chevelle malibu</td>\n",
       "      <td>False</td>\n",
       "      <td>True</td>\n",
       "    </tr>\n",
       "    <tr>\n",
       "      <th>1</th>\n",
       "      <td>8</td>\n",
       "      <td>350.0</td>\n",
       "      <td>165.0</td>\n",
       "      <td>3693</td>\n",
       "      <td>11.5</td>\n",
       "      <td>70</td>\n",
       "      <td>buick skylark 320</td>\n",
       "      <td>False</td>\n",
       "      <td>True</td>\n",
       "    </tr>\n",
       "    <tr>\n",
       "      <th>2</th>\n",
       "      <td>8</td>\n",
       "      <td>318.0</td>\n",
       "      <td>150.0</td>\n",
       "      <td>3436</td>\n",
       "      <td>11.0</td>\n",
       "      <td>70</td>\n",
       "      <td>plymouth satellite</td>\n",
       "      <td>False</td>\n",
       "      <td>True</td>\n",
       "    </tr>\n",
       "    <tr>\n",
       "      <th>3</th>\n",
       "      <td>8</td>\n",
       "      <td>304.0</td>\n",
       "      <td>150.0</td>\n",
       "      <td>3433</td>\n",
       "      <td>12.0</td>\n",
       "      <td>70</td>\n",
       "      <td>amc rebel sst</td>\n",
       "      <td>False</td>\n",
       "      <td>True</td>\n",
       "    </tr>\n",
       "    <tr>\n",
       "      <th>4</th>\n",
       "      <td>8</td>\n",
       "      <td>302.0</td>\n",
       "      <td>140.0</td>\n",
       "      <td>3449</td>\n",
       "      <td>10.5</td>\n",
       "      <td>70</td>\n",
       "      <td>ford torino</td>\n",
       "      <td>False</td>\n",
       "      <td>True</td>\n",
       "    </tr>\n",
       "    <tr>\n",
       "      <th>...</th>\n",
       "      <td>...</td>\n",
       "      <td>...</td>\n",
       "      <td>...</td>\n",
       "      <td>...</td>\n",
       "      <td>...</td>\n",
       "      <td>...</td>\n",
       "      <td>...</td>\n",
       "      <td>...</td>\n",
       "      <td>...</td>\n",
       "    </tr>\n",
       "    <tr>\n",
       "      <th>393</th>\n",
       "      <td>4</td>\n",
       "      <td>140.0</td>\n",
       "      <td>86.0</td>\n",
       "      <td>2790</td>\n",
       "      <td>15.6</td>\n",
       "      <td>82</td>\n",
       "      <td>ford mustang gl</td>\n",
       "      <td>False</td>\n",
       "      <td>True</td>\n",
       "    </tr>\n",
       "    <tr>\n",
       "      <th>394</th>\n",
       "      <td>4</td>\n",
       "      <td>97.0</td>\n",
       "      <td>52.0</td>\n",
       "      <td>2130</td>\n",
       "      <td>24.6</td>\n",
       "      <td>82</td>\n",
       "      <td>vw pickup</td>\n",
       "      <td>False</td>\n",
       "      <td>False</td>\n",
       "    </tr>\n",
       "    <tr>\n",
       "      <th>395</th>\n",
       "      <td>4</td>\n",
       "      <td>135.0</td>\n",
       "      <td>84.0</td>\n",
       "      <td>2295</td>\n",
       "      <td>11.6</td>\n",
       "      <td>82</td>\n",
       "      <td>dodge rampage</td>\n",
       "      <td>False</td>\n",
       "      <td>True</td>\n",
       "    </tr>\n",
       "    <tr>\n",
       "      <th>396</th>\n",
       "      <td>4</td>\n",
       "      <td>120.0</td>\n",
       "      <td>79.0</td>\n",
       "      <td>2625</td>\n",
       "      <td>18.6</td>\n",
       "      <td>82</td>\n",
       "      <td>ford ranger</td>\n",
       "      <td>False</td>\n",
       "      <td>True</td>\n",
       "    </tr>\n",
       "    <tr>\n",
       "      <th>397</th>\n",
       "      <td>4</td>\n",
       "      <td>119.0</td>\n",
       "      <td>82.0</td>\n",
       "      <td>2720</td>\n",
       "      <td>19.4</td>\n",
       "      <td>82</td>\n",
       "      <td>chevy s-10</td>\n",
       "      <td>False</td>\n",
       "      <td>True</td>\n",
       "    </tr>\n",
       "  </tbody>\n",
       "</table>\n",
       "<p>398 rows × 9 columns</p>\n",
       "</div>"
      ],
      "text/plain": [
       "     cylinders  displacement  horsepower  weight  acceleration  model_year  \\\n",
       "0            8         307.0       130.0    3504          12.0          70   \n",
       "1            8         350.0       165.0    3693          11.5          70   \n",
       "2            8         318.0       150.0    3436          11.0          70   \n",
       "3            8         304.0       150.0    3433          12.0          70   \n",
       "4            8         302.0       140.0    3449          10.5          70   \n",
       "..         ...           ...         ...     ...           ...         ...   \n",
       "393          4         140.0        86.0    2790          15.6          82   \n",
       "394          4          97.0        52.0    2130          24.6          82   \n",
       "395          4         135.0        84.0    2295          11.6          82   \n",
       "396          4         120.0        79.0    2625          18.6          82   \n",
       "397          4         119.0        82.0    2720          19.4          82   \n",
       "\n",
       "                          name  origin_japan  origin_usa  \n",
       "0    chevrolet chevelle malibu         False        True  \n",
       "1            buick skylark 320         False        True  \n",
       "2           plymouth satellite         False        True  \n",
       "3                amc rebel sst         False        True  \n",
       "4                  ford torino         False        True  \n",
       "..                         ...           ...         ...  \n",
       "393            ford mustang gl         False        True  \n",
       "394                  vw pickup         False       False  \n",
       "395              dodge rampage         False        True  \n",
       "396                ford ranger         False        True  \n",
       "397                 chevy s-10         False        True  \n",
       "\n",
       "[398 rows x 9 columns]"
      ]
     },
     "execution_count": 48,
     "metadata": {},
     "output_type": "execute_result"
    }
   ],
   "source": [
    "features_full = pd.get_dummies(features_full, columns=['origin'], drop_first=True)\n",
    "features_full"
   ]
  },
  {
   "cell_type": "code",
   "execution_count": 49,
   "id": "56c62613-71d9-45f8-9865-fdb43faf9817",
   "metadata": {
    "execution": {
     "iopub.execute_input": "2025-02-19T07:43:54.962670Z",
     "iopub.status.busy": "2025-02-19T07:43:54.962387Z",
     "iopub.status.idle": "2025-02-19T07:43:54.979258Z",
     "shell.execute_reply": "2025-02-19T07:43:54.978520Z",
     "shell.execute_reply.started": "2025-02-19T07:43:54.962649Z"
    }
   },
   "outputs": [],
   "source": [
    "if 'name' in features_full.columns:\n",
    "    features_full = features_full.drop(columns=['name'])"
   ]
  },
  {
   "cell_type": "code",
   "execution_count": 50,
   "id": "a295e7d5-9f90-40b0-8202-63eb038cefcd",
   "metadata": {
    "execution": {
     "iopub.execute_input": "2025-02-19T07:43:54.981070Z",
     "iopub.status.busy": "2025-02-19T07:43:54.980447Z",
     "iopub.status.idle": "2025-02-19T07:43:55.007882Z",
     "shell.execute_reply": "2025-02-19T07:43:55.006910Z",
     "shell.execute_reply.started": "2025-02-19T07:43:54.981039Z"
    }
   },
   "outputs": [
    {
     "name": "stdout",
     "output_type": "stream",
     "text": [
      "\n",
      "Features with boolean origin columns:\n",
      "   cylinders  displacement  horsepower  weight  acceleration  model_year  \\\n",
      "0          8         307.0       130.0    3504          12.0          70   \n",
      "1          8         350.0       165.0    3693          11.5          70   \n",
      "2          8         318.0       150.0    3436          11.0          70   \n",
      "3          8         304.0       150.0    3433          12.0          70   \n",
      "4          8         302.0       140.0    3449          10.5          70   \n",
      "\n",
      "   origin_japan  origin_usa  \n",
      "0         False        True  \n",
      "1         False        True  \n",
      "2         False        True  \n",
      "3         False        True  \n",
      "4         False        True  \n"
     ]
    }
   ],
   "source": [
    "if 'origin' in features_full.columns:\n",
    "    features['origin_japan'] = (features['origin'] == 'japan')\n",
    "    features['origin_usa']   = (features['origin'] == 'usa')\n",
    "    # Drop the original 'origin' column\n",
    "    features.drop(columns=['origin'], inplace=True)\n",
    "\n",
    "print(\"\\nFeatures with boolean origin columns:\")\n",
    "print(features_full.head())\n"
   ]
  },
  {
   "cell_type": "code",
   "execution_count": 51,
   "id": "ad3dd423-7461-44ef-bd45-c719f738e3a6",
   "metadata": {
    "execution": {
     "iopub.execute_input": "2025-02-19T07:43:55.009757Z",
     "iopub.status.busy": "2025-02-19T07:43:55.009100Z",
     "iopub.status.idle": "2025-02-19T07:43:55.038401Z",
     "shell.execute_reply": "2025-02-19T07:43:55.037627Z",
     "shell.execute_reply.started": "2025-02-19T07:43:55.009725Z"
    }
   },
   "outputs": [
    {
     "name": "stdout",
     "output_type": "stream",
     "text": [
      "\n",
      "Numeric columns to be scaled: ['cylinders', 'displacement', 'horsepower', 'weight', 'acceleration', 'model_year']\n",
      "\n",
      "Features after scaling numeric columns (boolean columns unchanged):\n",
      "   cylinders  displacement  horsepower    weight  acceleration  model_year  \\\n",
      "0   1.498191      1.090604    0.669196  0.630870     -1.295498   -1.627426   \n",
      "1   1.498191      1.503514    1.586599  0.854333     -1.477038   -1.627426   \n",
      "2   1.498191      1.196232    1.193426  0.550470     -1.658577   -1.627426   \n",
      "3   1.498191      1.061796    1.193426  0.546923     -1.295498   -1.627426   \n",
      "4   1.498191      1.042591    0.931311  0.565841     -1.840117   -1.627426   \n",
      "\n",
      "   origin_japan  origin_usa  \n",
      "0         False        True  \n",
      "1         False        True  \n",
      "2         False        True  \n",
      "3         False        True  \n",
      "4         False        True  \n"
     ]
    }
   ],
   "source": [
    "# 3.1 Identify numeric columns (we'll exclude the boolean columns we just created)\n",
    "bool_cols = ['origin_japan', 'origin_usa']\n",
    "num_cols = [col for col in features_full.columns if col not in bool_cols]\n",
    "\n",
    "print(\"\\nNumeric columns to be scaled:\", num_cols)\n",
    "\n",
    "# 3.2 Scale only the numeric columns\n",
    "scaler = StandardScaler()\n",
    "features_full[num_cols] = scaler.fit_transform(features_full[num_cols])\n",
    "\n",
    "print(\"\\nFeatures after scaling numeric columns (boolean columns unchanged):\")\n",
    "print(features_full.head())\n"
   ]
  },
  {
   "cell_type": "code",
   "execution_count": 52,
   "id": "ccfdca5b-ba93-401f-a47d-1d818e231eba",
   "metadata": {
    "execution": {
     "iopub.execute_input": "2025-02-19T07:43:55.040153Z",
     "iopub.status.busy": "2025-02-19T07:43:55.039567Z",
     "iopub.status.idle": "2025-02-19T07:43:55.060624Z",
     "shell.execute_reply": "2025-02-19T07:43:55.059257Z",
     "shell.execute_reply.started": "2025-02-19T07:43:55.040125Z"
    }
   },
   "outputs": [
    {
     "name": "stdout",
     "output_type": "stream",
     "text": [
      "Training set shape: (318, 8) (318,)\n",
      "Test set shape: (80, 8) (80,)\n"
     ]
    }
   ],
   "source": [
    "\n",
    "X_train_full, X_test_full, y_train_full, y_test_full = train_test_split(\n",
    "    features_full, target_full, test_size=0.20, random_state=42, shuffle=True\n",
    ")\n",
    "\n",
    "print(\"Training set shape:\", X_train_full.shape, y_train.shape)\n",
    "print(\"Test set shape:\", X_test_full.shape, y_test.shape)"
   ]
  },
  {
   "cell_type": "code",
   "execution_count": 53,
   "id": "6a7e4cbb-b9be-4065-b4af-f36d62b147c2",
   "metadata": {
    "execution": {
     "iopub.execute_input": "2025-02-19T07:43:55.062302Z",
     "iopub.status.busy": "2025-02-19T07:43:55.061734Z",
     "iopub.status.idle": "2025-02-19T07:44:02.959576Z",
     "shell.execute_reply": "2025-02-19T07:44:02.958706Z",
     "shell.execute_reply.started": "2025-02-19T07:43:55.062281Z"
    }
   },
   "outputs": [
    {
     "name": "stdout",
     "output_type": "stream",
     "text": [
      "LinearRegressionModel(\n",
      "  (linear): Linear(in_features=8, out_features=1, bias=True)\n",
      ")\n",
      "Total trainable parameters: 9\n",
      "Epoch [10/200], Loss: 360.9252\n",
      "Epoch [20/200], Loss: 208.9772\n",
      "Epoch [30/200], Loss: 128.3708\n",
      "Epoch [40/200], Loss: 83.9536\n",
      "Epoch [50/200], Loss: 59.0357\n",
      "Epoch [60/200], Loss: 44.8578\n",
      "Epoch [70/200], Loss: 36.6519\n",
      "Epoch [80/200], Loss: 31.7882\n",
      "Epoch [90/200], Loss: 28.8082\n",
      "Epoch [100/200], Loss: 26.9000\n",
      "Epoch [110/200], Loss: 25.6096\n",
      "Epoch [120/200], Loss: 24.6819\n",
      "Epoch [130/200], Loss: 23.9727\n",
      "Epoch [140/200], Loss: 23.3994\n",
      "Epoch [150/200], Loss: 22.9144\n",
      "Epoch [160/200], Loss: 22.4895\n",
      "Epoch [170/200], Loss: 22.1079\n",
      "Epoch [180/200], Loss: 21.7590\n",
      "Epoch [190/200], Loss: 21.4361\n",
      "Epoch [200/200], Loss: 21.1348\n",
      "Training complete!\n",
      "Lambda L1: 0.0001, Lambda L2: 0.0001, CV Loss: 21.7632\n",
      "Lambda L1: 0.0001, Lambda L2: 0.001, CV Loss: 21.0365\n",
      "Lambda L1: 0.0001, Lambda L2: 0.01, CV Loss: 21.4250\n",
      "Lambda L1: 0.001, Lambda L2: 0.0001, CV Loss: 21.5221\n",
      "Lambda L1: 0.001, Lambda L2: 0.001, CV Loss: 21.7904\n",
      "Lambda L1: 0.001, Lambda L2: 0.01, CV Loss: 21.8284\n",
      "Lambda L1: 0.01, Lambda L2: 0.0001, CV Loss: 21.6046\n",
      "Lambda L1: 0.01, Lambda L2: 0.001, CV Loss: 21.6274\n",
      "Lambda L1: 0.01, Lambda L2: 0.01, CV Loss: 21.3385\n",
      "\n",
      "Best Hyperparameters:\n",
      "Lambda L1: 0.0001, Lambda L2: 0.001, with CV Loss: 21.0365\n"
     ]
    }
   ],
   "source": [
    "import numpy as np\n",
    "import torch\n",
    "import torch.nn as nn\n",
    "from sklearn.model_selection import KFold\n",
    "from sklearn.metrics import mean_squared_error, r2_score\n",
    "\n",
    "#############################################\n",
    "# 1. Model Definition and Initialization  #\n",
    "#############################################\n",
    "\n",
    "class LinearRegressionModel(nn.Module):\n",
    "    def __init__(self, input_dim):\n",
    "        super(LinearRegressionModel, self).__init__()\n",
    "        self.linear = nn.Linear(input_dim, 1)  # Single linear layer for predicting mpg\n",
    "        \n",
    "    def forward(self, x):\n",
    "        return self.linear(x)\n",
    "\n",
    "# Assume X_train_full is already defined from your preprocessing step.\n",
    "input_dim_full = X_train_full.shape[1]\n",
    "model = LinearRegressionModel(input_dim_full)\n",
    "\n",
    "# Weight initialization using Xavier\n",
    "def init_weights(m):\n",
    "    if isinstance(m, nn.Linear):\n",
    "        nn.init.xavier_uniform_(m.weight)\n",
    "        m.bias.data.fill_(0.0)\n",
    "\n",
    "model.apply(init_weights)\n",
    "print(model)\n",
    "total_params = sum(p.numel() for p in model.parameters() if p.requires_grad)\n",
    "print(\"Total trainable parameters:\", total_params)\n",
    "\n",
    "# Loss function and learning rate\n",
    "criterion = nn.MSELoss()\n",
    "learning_rate = 0.01\n",
    "\n",
    "# Default regularization parameters for Elastic Net (will be tuned via grid search)\n",
    "lambda_l1 = 0.0001  # L1 regularization coefficient\n",
    "lambda_l2 = 0.0001  # L2 regularization coefficient\n",
    "\n",
    "# Convert training data to tensors\n",
    "X_train_tensor_full = torch.tensor(X_train_full.to_numpy().astype(np.float32))\n",
    "y_train_tensor_full = torch.tensor(y_train_full.to_numpy().astype(np.float32)).reshape(-1, 1)\n",
    "\n",
    "#############################################\n",
    "# 2. Original Training Loop with Elastic Net#\n",
    "#############################################\n",
    "\n",
    "num_epochs = 200\n",
    "loss_history = []\n",
    "\n",
    "for epoch in range(num_epochs):\n",
    "    model.train()\n",
    "    \n",
    "    # Forward pass: compute predictions\n",
    "    outputs_full = model(X_train_tensor_full)\n",
    "    loss = criterion(outputs_full, y_train_tensor_full)\n",
    "    \n",
    "    # Compute L1 and L2 regularization terms over all model parameters\n",
    "    l1_reg = torch.tensor(0., requires_grad=True)\n",
    "    l2_reg = torch.tensor(0., requires_grad=True)\n",
    "    for param in model.parameters():\n",
    "        l1_reg = l1_reg + torch.sum(torch.abs(param))\n",
    "        l2_reg = l2_reg + torch.norm(param, 2)**2\n",
    "        \n",
    "    # Add Elastic Net regularization term to the loss\n",
    "    loss = loss + lambda_l1 * l1_reg + lambda_l2 * 0.5 * l2_reg\n",
    "    \n",
    "    # Backward pass: compute gradients\n",
    "    loss.backward()\n",
    "    \n",
    "    # Manual SGD parameter update\n",
    "    with torch.no_grad():\n",
    "        for param in model.parameters():\n",
    "            param -= learning_rate * param.grad\n",
    "    \n",
    "    model.zero_grad()  # Reset gradients\n",
    "    \n",
    "    loss_history.append(loss.item())\n",
    "    if (epoch+1) % 10 == 0:\n",
    "        print(f\"Epoch [{epoch+1}/{num_epochs}], Loss: {loss.item():.4f}\")\n",
    "\n",
    "print(\"Training complete!\")\n",
    "\n",
    "#############################################\n",
    "# 3. Grid Search for Hyperparameter Tuning  #\n",
    "#############################################\n",
    "\n",
    "def train_model_cv(lambda_l1, lambda_l2, X_tensor, y_tensor, num_epochs=200, learning_rate=0.01, n_splits=5):\n",
    "    \"\"\"\n",
    "    Trains a new model using k-fold cross-validation for the given lambda values.\n",
    "    Returns the average validation loss.\n",
    "    \"\"\"\n",
    "    kf = KFold(n_splits=n_splits, shuffle=True, random_state=42)\n",
    "    val_losses = []\n",
    "    \n",
    "    for train_index, val_index in kf.split(X_tensor):\n",
    "        # Create training and validation splits for this fold\n",
    "        X_train_fold = X_tensor[train_index]\n",
    "        y_train_fold = y_tensor[train_index]\n",
    "        X_val_fold   = X_tensor[val_index]\n",
    "        y_val_fold   = y_tensor[val_index]\n",
    "        \n",
    "        # Create a new instance of the model for this fold and initialize weights\n",
    "        model_cv = LinearRegressionModel(input_dim_full)\n",
    "        model_cv.apply(init_weights)\n",
    "        \n",
    "        for epoch in range(num_epochs):\n",
    "            model_cv.train()\n",
    "            outputs = model_cv(X_train_fold)\n",
    "            loss = criterion(outputs, y_train_fold)\n",
    "            \n",
    "            # Compute Elastic Net regularization terms\n",
    "            l1_reg = torch.tensor(0., requires_grad=True)\n",
    "            l2_reg = torch.tensor(0., requires_grad=True)\n",
    "            for param in model_cv.parameters():\n",
    "                l1_reg = l1_reg + torch.sum(torch.abs(param))\n",
    "                l2_reg = l2_reg + torch.norm(param, 2)**2\n",
    "            loss = loss + lambda_l1 * l1_reg + lambda_l2 * 0.5 * l2_reg\n",
    "            \n",
    "            loss.backward()\n",
    "            with torch.no_grad():\n",
    "                for param in model_cv.parameters():\n",
    "                    param -= learning_rate * param.grad\n",
    "            model_cv.zero_grad()\n",
    "            \n",
    "        # Evaluate on the validation fold\n",
    "        model_cv.eval()\n",
    "        with torch.no_grad():\n",
    "            val_outputs = model_cv(X_val_fold)\n",
    "            val_loss = criterion(val_outputs, y_val_fold)\n",
    "        val_losses.append(val_loss.item())\n",
    "    \n",
    "    return np.mean(val_losses)\n",
    "\n",
    "# Define grid of lambda values to search\n",
    "grid_lambda_l1 = [0.0001, 0.001, 0.01]\n",
    "grid_lambda_l2 = [0.0001, 0.001, 0.01]\n",
    "results = {}\n",
    "\n",
    "# Run grid search over the lambda values\n",
    "for l1 in grid_lambda_l1:\n",
    "    for l2 in grid_lambda_l2:\n",
    "        cv_loss = train_model_cv(l1, l2, X_train_tensor_full, y_train_tensor_full, \n",
    "                                 num_epochs=200, learning_rate=0.01, n_splits=5)\n",
    "        results[(l1, l2)] = cv_loss\n",
    "        print(f\"Lambda L1: {l1}, Lambda L2: {l2}, CV Loss: {cv_loss:.4f}\")\n",
    "\n",
    "# Find best hyperparameters (lowest average validation loss)\n",
    "best_params = min(results, key=results.get)\n",
    "print(\"\\nBest Hyperparameters:\")\n",
    "print(f\"Lambda L1: {best_params[0]}, Lambda L2: {best_params[1]}, with CV Loss: {results[best_params]:.4f}\")\n",
    "\n"
   ]
  },
  {
   "cell_type": "code",
   "execution_count": 54,
   "id": "6730af8a-0f37-40b3-a344-c6167abbcab7",
   "metadata": {
    "execution": {
     "iopub.execute_input": "2025-02-19T07:44:02.961361Z",
     "iopub.status.busy": "2025-02-19T07:44:02.960816Z",
     "iopub.status.idle": "2025-02-19T07:44:02.995463Z",
     "shell.execute_reply": "2025-02-19T07:44:02.992047Z",
     "shell.execute_reply.started": "2025-02-19T07:44:02.961331Z"
    }
   },
   "outputs": [
    {
     "name": "stdout",
     "output_type": "stream",
     "text": [
      "Test MSE (all features + regularization): 16.5769\n",
      "Test R² Score (all features + regularization): 0.6917\n"
     ]
    }
   ],
   "source": [
    "# Convert test set to tensors (make sure to use the correct variable names)\n",
    "X_test_tensor_full = torch.tensor(X_test_full.to_numpy().astype(np.float32))\n",
    "y_test_tensor_full = torch.tensor(y_test_full.to_numpy().astype(np.float32)).reshape(-1, 1)\n",
    "\n",
    "# Evaluate the model on the test set\n",
    "model.eval()\n",
    "with torch.no_grad():\n",
    "    predictions_full = model(X_test_tensor_full)\n",
    "    \n",
    "# Convert predictions and true values to NumPy arrays for evaluation\n",
    "predictions_np = predictions_full.detach().numpy().squeeze()\n",
    "y_test_np = y_test_tensor_full.numpy().squeeze()\n",
    "\n",
    "# Compute evaluation metrics: Mean Squared Error and R² Score\n",
    "from sklearn.metrics import mean_squared_error, r2_score\n",
    "\n",
    "mse_full = mean_squared_error(y_test_np, predictions_np)\n",
    "r2_full = r2_score(y_test_np, predictions_np)\n",
    "\n",
    "print(f\"Test MSE (all features + regularization): {mse_full:.4f}\")\n",
    "print(f\"Test R² Score (all features + regularization): {r2_full:.4f}\")\n",
    "\n"
   ]
  },
  {
   "cell_type": "code",
   "execution_count": 55,
   "id": "e4b48960-b420-435a-8fb2-2e91d9c89fa6",
   "metadata": {
    "execution": {
     "iopub.execute_input": "2025-02-19T07:44:03.000300Z",
     "iopub.status.busy": "2025-02-19T07:44:02.999982Z",
     "iopub.status.idle": "2025-02-19T07:44:03.862870Z",
     "shell.execute_reply": "2025-02-19T07:44:03.862069Z",
     "shell.execute_reply.started": "2025-02-19T07:44:03.000271Z"
    }
   },
   "outputs": [
    {
     "data": {
      "image/png": "[encoded data removed]",
      "text/plain": [
       "<Figure size 800x500 with 1 Axes>"
      ]
     },
     "metadata": {},
     "output_type": "display_data"
    }
   ],
   "source": [
    "import matplotlib.pyplot as plt\n",
    "\n",
    "plt.figure(figsize=(8, 5))\n",
    "plt.plot(loss_history, label='Training Loss', marker='o')\n",
    "plt.xlabel(\"Epoch\")\n",
    "plt.ylabel(\"Loss\")\n",
    "plt.title(\"Training Loss over Epochs\")\n",
    "plt.legend()\n",
    "plt.show()\n"
   ]
  },
  {
   "cell_type": "code",
   "execution_count": 56,
   "id": "d4c3c3c1-70b1-4a89-a4eb-d0bad01832bd",
   "metadata": {
    "execution": {
     "iopub.execute_input": "2025-02-19T07:44:03.864802Z",
     "iopub.status.busy": "2025-02-19T07:44:03.864108Z",
     "iopub.status.idle": "2025-02-19T07:44:04.209253Z",
     "shell.execute_reply": "2025-02-19T07:44:04.208123Z",
     "shell.execute_reply.started": "2025-02-19T07:44:03.864769Z"
    }
   },
   "outputs": [
    {
     "data": {
      "image/png": "[encoded data removed]",
      "text/plain": [
       "<Figure size 800x600 with 1 Axes>"
      ]
     },
     "metadata": {},
     "output_type": "display_data"
    }
   ],
   "source": [
    "\n",
    "plt.figure(figsize=(8, 6))\n",
    "plt.scatter(y_test_np, predictions_np, alpha=0.6)\n",
    "plt.xlabel(\"True mpg\")\n",
    "plt.ylabel(\"Predicted mpg\")\n",
    "plt.title(\"True vs. Predicted mpg\")\n",
    "min_val = min(y_test_np.min(), predictions_np.min())\n",
    "max_val = max(y_test_np.max(), predictions_np.max())\n",
    "plt.plot([min_val, max_val], [min_val, max_val], 'r--', label=\"Perfect Prediction\")\n",
    "plt.legend()\n",
    "plt.show()"
   ]
  },
  {
   "cell_type": "markdown",
   "id": "a64b1dbe-3fa2-42b6-92e6-f4873898309e",
   "metadata": {},
   "source": [
    "#####  Using Elastic Net with all features yielded a Test MSE of 15.7933 and an R² of 0.7063, significantly improving performance over models without regularization. This suggests that combining L1 and L2 penalties effectively reduced overfitting and leveraged the extra features without introducing noise. In short, Elastic Net helped the model generalize better, achieving more accurate predictions by balancing the benefits of using all features with regularization"
   ]
  },
  {
   "cell_type": "code",
   "execution_count": null,
   "id": "55b84cf5-cea7-491f-aeeb-e1feccc14a78",
   "metadata": {},
   "outputs": [],
   "source": []
  },
  {
   "cell_type": "markdown",
   "id": "47b913b2-7e1b-4404-a85f-e1317b9cc41f",
   "metadata": {},
   "source": [
    "# Question 4"
   ]
  },
  {
   "cell_type": "markdown",
   "id": "0651db35-8be6-4645-9c68-13ac9422148e",
   "metadata": {},
   "source": [
    "### Multi-Head Regression for Order Fulfillment Prediction "
   ]
  },
  {
   "cell_type": "code",
   "execution_count": 60,
   "id": "451ac88e-020d-4b87-98fd-347e3b2a9f89",
   "metadata": {
    "execution": {
     "iopub.execute_input": "2025-02-19T07:44:04.400272Z",
     "iopub.status.busy": "2025-02-19T07:44:04.399693Z",
     "iopub.status.idle": "2025-02-19T07:44:04.442869Z",
     "shell.execute_reply": "2025-02-19T07:44:04.441937Z",
     "shell.execute_reply.started": "2025-02-19T07:44:04.400241Z"
    }
   },
   "outputs": [],
   "source": [
    "import pandas as pd\n",
    "import numpy as np\n",
    "from sklearn.model_selection import train_test_split\n",
    "from sklearn.preprocessing import StandardScaler, OneHotEncoder\n",
    "from sklearn.compose import ColumnTransformer\n",
    "from sklearn.pipeline import Pipeline\n"
   ]
  },
  {
   "cell_type": "code",
   "execution_count": 61,
   "id": "5c01915d-4d4e-4e6f-9dff-28a25f4d0eff",
   "metadata": {
    "execution": {
     "iopub.execute_input": "2025-02-19T07:44:04.445474Z",
     "iopub.status.busy": "2025-02-19T07:44:04.444902Z",
     "iopub.status.idle": "2025-02-19T07:44:11.018216Z",
     "shell.execute_reply": "2025-02-19T07:44:11.017427Z",
     "shell.execute_reply.started": "2025-02-19T07:44:04.445445Z"
    }
   },
   "outputs": [
    {
     "name": "stdout",
     "output_type": "stream",
     "text": [
      "File loaded successfully!\n"
     ]
    }
   ],
   "source": [
    "try:\n",
    "    data = pd.read_csv('/home/ad2a8f6d-9cda-4fdb-8d63-78c98b576117/ML Homework/DataCoSupplyChainDataset.csv', encoding='latin1')\n",
    "    print(\"File loaded successfully!\")\n",
    "except Exception as e:\n",
    "    print(\"Error reading the file:\", e)\n"
   ]
  },
  {
   "cell_type": "code",
   "execution_count": 62,
   "id": "a3e5e703-974f-4b82-8e31-aa3e6681d56a",
   "metadata": {
    "execution": {
     "iopub.execute_input": "2025-02-19T07:44:11.032308Z",
     "iopub.status.busy": "2025-02-19T07:44:11.031222Z",
     "iopub.status.idle": "2025-02-19T07:44:11.439273Z",
     "shell.execute_reply": "2025-02-19T07:44:11.438459Z",
     "shell.execute_reply.started": "2025-02-19T07:44:11.032271Z"
    }
   },
   "outputs": [
    {
     "name": "stdout",
     "output_type": "stream",
     "text": [
      "       Type  Days for shipping (real)  Days for shipment (scheduled)  \\\n",
      "0     DEBIT                         3                              4   \n",
      "1  TRANSFER                         5                              4   \n",
      "2      CASH                         4                              4   \n",
      "3     DEBIT                         3                              4   \n",
      "4   PAYMENT                         2                              4   \n",
      "\n",
      "   Benefit per order  Sales per customer   Delivery Status  \\\n",
      "0          91.250000          314.640015  Advance shipping   \n",
      "1        -249.089996          311.359985     Late delivery   \n",
      "2        -247.779999          309.720001  Shipping on time   \n",
      "3          22.860001          304.809998  Advance shipping   \n",
      "4         134.210007          298.250000  Advance shipping   \n",
      "\n",
      "   Late_delivery_risk  Category Id   Category Name Customer City  ...  \\\n",
      "0                   0           73  Sporting Goods        Caguas  ...   \n",
      "1                   1           73  Sporting Goods        Caguas  ...   \n",
      "2                   0           73  Sporting Goods      San Jose  ...   \n",
      "3                   0           73  Sporting Goods   Los Angeles  ...   \n",
      "4                   0           73  Sporting Goods        Caguas  ...   \n",
      "\n",
      "  Order Zipcode Product Card Id Product Category Id  Product Description  \\\n",
      "0           NaN            1360                  73                  NaN   \n",
      "1           NaN            1360                  73                  NaN   \n",
      "2           NaN            1360                  73                  NaN   \n",
      "3           NaN            1360                  73                  NaN   \n",
      "4           NaN            1360                  73                  NaN   \n",
      "\n",
      "                                  Product Image  Product Name Product Price  \\\n",
      "0  http://images.acmesports.sports/Smart+watch   Smart watch         327.75   \n",
      "1  http://images.acmesports.sports/Smart+watch   Smart watch         327.75   \n",
      "2  http://images.acmesports.sports/Smart+watch   Smart watch         327.75   \n",
      "3  http://images.acmesports.sports/Smart+watch   Smart watch         327.75   \n",
      "4  http://images.acmesports.sports/Smart+watch   Smart watch         327.75   \n",
      "\n",
      "  Product Status shipping date (DateOrders)   Shipping Mode  \n",
      "0              0             2/3/2018 22:56  Standard Class  \n",
      "1              0            1/18/2018 12:27  Standard Class  \n",
      "2              0            1/17/2018 12:06  Standard Class  \n",
      "3              0            1/16/2018 11:45  Standard Class  \n",
      "4              0            1/15/2018 11:24  Standard Class  \n",
      "\n",
      "[5 rows x 53 columns]\n",
      "<class 'pandas.core.frame.DataFrame'>\n",
      "RangeIndex: 180519 entries, 0 to 180518\n",
      "Data columns (total 53 columns):\n",
      " #   Column                         Non-Null Count   Dtype  \n",
      "---  ------                         --------------   -----  \n",
      " 0   Type                           180519 non-null  object \n",
      " 1   Days for shipping (real)       180519 non-null  int64  \n",
      " 2   Days for shipment (scheduled)  180519 non-null  int64  \n",
      " 3   Benefit per order              180519 non-null  float64\n",
      " 4   Sales per customer             180519 non-null  float64\n",
      " 5   Delivery Status                180519 non-null  object \n",
      " 6   Late_delivery_risk             180519 non-null  int64  \n",
      " 7   Category Id                    180519 non-null  int64  \n",
      " 8   Category Name                  180519 non-null  object \n",
      " 9   Customer City                  180519 non-null  object \n",
      " 10  Customer Country               180519 non-null  object \n",
      " 11  Customer Email                 180519 non-null  object \n",
      " 12  Customer Fname                 180519 non-null  object \n",
      " 13  Customer Id                    180519 non-null  int64  \n",
      " 14  Customer Lname                 180511 non-null  object \n",
      " 15  Customer Password              180519 non-null  object \n",
      " 16  Customer Segment               180519 non-null  object \n",
      " 17  Customer State                 180519 non-null  object \n",
      " 18  Customer Street                180519 non-null  object \n",
      " 19  Customer Zipcode               180516 non-null  float64\n",
      " 20  Department Id                  180519 non-null  int64  \n",
      " 21  Department Name                180519 non-null  object \n",
      " 22  Latitude                       180519 non-null  float64\n",
      " 23  Longitude                      180519 non-null  float64\n",
      " 24  Market                         180519 non-null  object \n",
      " 25  Order City                     180519 non-null  object \n",
      " 26  Order Country                  180519 non-null  object \n",
      " 27  Order Customer Id              180519 non-null  int64  \n",
      " 28  order date (DateOrders)        180519 non-null  object \n",
      " 29  Order Id                       180519 non-null  int64  \n",
      " 30  Order Item Cardprod Id         180519 non-null  int64  \n",
      " 31  Order Item Discount            180519 non-null  float64\n",
      " 32  Order Item Discount Rate       180519 non-null  float64\n",
      " 33  Order Item Id                  180519 non-null  int64  \n",
      " 34  Order Item Product Price       180519 non-null  float64\n",
      " 35  Order Item Profit Ratio        180519 non-null  float64\n",
      " 36  Order Item Quantity            180519 non-null  int64  \n",
      " 37  Sales                          180519 non-null  float64\n",
      " 38  Order Item Total               180519 non-null  float64\n",
      " 39  Order Profit Per Order         180519 non-null  float64\n",
      " 40  Order Region                   180519 non-null  object \n",
      " 41  Order State                    180519 non-null  object \n",
      " 42  Order Status                   180519 non-null  object \n",
      " 43  Order Zipcode                  24840 non-null   float64\n",
      " 44  Product Card Id                180519 non-null  int64  \n",
      " 45  Product Category Id            180519 non-null  int64  \n",
      " 46  Product Description            0 non-null       float64\n",
      " 47  Product Image                  180519 non-null  object \n",
      " 48  Product Name                   180519 non-null  object \n",
      " 49  Product Price                  180519 non-null  float64\n",
      " 50  Product Status                 180519 non-null  int64  \n",
      " 51  shipping date (DateOrders)     180519 non-null  object \n",
      " 52  Shipping Mode                  180519 non-null  object \n",
      "dtypes: float64(15), int64(14), object(24)\n",
      "memory usage: 73.0+ MB\n",
      "None\n"
     ]
    }
   ],
   "source": [
    "print(data.head())\n",
    "print(data.info())\n"
   ]
  },
  {
   "cell_type": "code",
   "execution_count": 63,
   "id": "7e12334d-06e4-42c0-9642-d83c9643335f",
   "metadata": {
    "execution": {
     "iopub.execute_input": "2025-02-19T07:44:11.444222Z",
     "iopub.status.busy": "2025-02-19T07:44:11.443551Z",
     "iopub.status.idle": "2025-02-19T07:44:11.762026Z",
     "shell.execute_reply": "2025-02-19T07:44:11.760927Z",
     "shell.execute_reply.started": "2025-02-19T07:44:11.444190Z"
    }
   },
   "outputs": [
    {
     "name": "stdout",
     "output_type": "stream",
     "text": [
      "Missing values per column before handling:\n",
      "Type                                  0\n",
      "Days for shipping (real)              0\n",
      "Days for shipment (scheduled)         0\n",
      "Benefit per order                     0\n",
      "Sales per customer                    0\n",
      "Delivery Status                       0\n",
      "Late_delivery_risk                    0\n",
      "Category Id                           0\n",
      "Category Name                         0\n",
      "Customer City                         0\n",
      "Customer Country                      0\n",
      "Customer Email                        0\n",
      "Customer Fname                        0\n",
      "Customer Id                           0\n",
      "Customer Lname                        8\n",
      "Customer Password                     0\n",
      "Customer Segment                      0\n",
      "Customer State                        0\n",
      "Customer Street                       0\n",
      "Customer Zipcode                      3\n",
      "Department Id                         0\n",
      "Department Name                       0\n",
      "Latitude                              0\n",
      "Longitude                             0\n",
      "Market                                0\n",
      "Order City                            0\n",
      "Order Country                         0\n",
      "Order Customer Id                     0\n",
      "order date (DateOrders)               0\n",
      "Order Id                              0\n",
      "Order Item Cardprod Id                0\n",
      "Order Item Discount                   0\n",
      "Order Item Discount Rate              0\n",
      "Order Item Id                         0\n",
      "Order Item Product Price              0\n",
      "Order Item Profit Ratio               0\n",
      "Order Item Quantity                   0\n",
      "Sales                                 0\n",
      "Order Item Total                      0\n",
      "Order Profit Per Order                0\n",
      "Order Region                          0\n",
      "Order State                           0\n",
      "Order Status                          0\n",
      "Order Zipcode                    155679\n",
      "Product Card Id                       0\n",
      "Product Category Id                   0\n",
      "Product Description              180519\n",
      "Product Image                         0\n",
      "Product Name                          0\n",
      "Product Price                         0\n",
      "Product Status                        0\n",
      "shipping date (DateOrders)            0\n",
      "Shipping Mode                         0\n",
      "dtype: int64\n"
     ]
    }
   ],
   "source": [
    "# Step 2: Handling Missing Values\n",
    "\n",
    "# Check missing values per column\n",
    "print(\"Missing values per column before handling:\")\n",
    "print(data.isnull().sum())\n",
    "\n"
   ]
  },
  {
   "cell_type": "code",
   "execution_count": 64,
   "id": "0ca4432e-e82f-4132-b367-54f1cd602ac3",
   "metadata": {
    "execution": {
     "iopub.execute_input": "2025-02-19T07:44:11.763726Z",
     "iopub.status.busy": "2025-02-19T07:44:11.763295Z",
     "iopub.status.idle": "2025-02-19T07:44:12.153208Z",
     "shell.execute_reply": "2025-02-19T07:44:12.152473Z",
     "shell.execute_reply.started": "2025-02-19T07:44:11.763703Z"
    }
   },
   "outputs": [
    {
     "name": "stdout",
     "output_type": "stream",
     "text": [
      "Dropped columns: ['Product Description', 'Order Zipcode']\n",
      "Missing values per column before handling:\n",
      "Type                             0\n",
      "Days for shipping (real)         0\n",
      "Days for shipment (scheduled)    0\n",
      "Benefit per order                0\n",
      "Sales per customer               0\n",
      "Delivery Status                  0\n",
      "Late_delivery_risk               0\n",
      "Category Id                      0\n",
      "Category Name                    0\n",
      "Customer City                    0\n",
      "Customer Country                 0\n",
      "Customer Email                   0\n",
      "Customer Fname                   0\n",
      "Customer Id                      0\n",
      "Customer Lname                   8\n",
      "Customer Password                0\n",
      "Customer Segment                 0\n",
      "Customer State                   0\n",
      "Customer Street                  0\n",
      "Customer Zipcode                 3\n",
      "Department Id                    0\n",
      "Department Name                  0\n",
      "Latitude                         0\n",
      "Longitude                        0\n",
      "Market                           0\n",
      "Order City                       0\n",
      "Order Country                    0\n",
      "Order Customer Id                0\n",
      "order date (DateOrders)          0\n",
      "Order Id                         0\n",
      "Order Item Cardprod Id           0\n",
      "Order Item Discount              0\n",
      "Order Item Discount Rate         0\n",
      "Order Item Id                    0\n",
      "Order Item Product Price         0\n",
      "Order Item Profit Ratio          0\n",
      "Order Item Quantity              0\n",
      "Sales                            0\n",
      "Order Item Total                 0\n",
      "Order Profit Per Order           0\n",
      "Order Region                     0\n",
      "Order State                      0\n",
      "Order Status                     0\n",
      "Product Card Id                  0\n",
      "Product Category Id              0\n",
      "Product Image                    0\n",
      "Product Name                     0\n",
      "Product Price                    0\n",
      "Product Status                   0\n",
      "shipping date (DateOrders)       0\n",
      "Shipping Mode                    0\n",
      "dtype: int64\n"
     ]
    }
   ],
   "source": [
    "\n",
    "# Drop columns that we don't think will contribute significantly\n",
    "cols_to_drop = ['Product Description', 'Order Zipcode']\n",
    "data.drop(columns=cols_to_drop, inplace=True, errors='ignore')\n",
    "print(f\"Dropped columns: {cols_to_drop}\")\n",
    "\n",
    "# Check missing values per column before filling remaining missing values\n",
    "print(\"Missing values per column before handling:\")\n",
    "print(data.isnull().sum())"
   ]
  },
  {
   "cell_type": "code",
   "execution_count": 65,
   "id": "e91fa72f-9a04-4a74-a985-3876702b4ea6",
   "metadata": {
    "execution": {
     "iopub.execute_input": "2025-02-19T07:44:12.154709Z",
     "iopub.status.busy": "2025-02-19T07:44:12.154364Z",
     "iopub.status.idle": "2025-02-19T07:44:13.250925Z",
     "shell.execute_reply": "2025-02-19T07:44:13.250121Z",
     "shell.execute_reply.started": "2025-02-19T07:44:12.154678Z"
    }
   },
   "outputs": [
    {
     "name": "stdout",
     "output_type": "stream",
     "text": [
      "\n",
      "Missing values per column after handling:\n",
      "Type                             0\n",
      "Days for shipping (real)         0\n",
      "Days for shipment (scheduled)    0\n",
      "Benefit per order                0\n",
      "Sales per customer               0\n",
      "Delivery Status                  0\n",
      "Late_delivery_risk               0\n",
      "Category Id                      0\n",
      "Category Name                    0\n",
      "Customer City                    0\n",
      "Customer Country                 0\n",
      "Customer Email                   0\n",
      "Customer Fname                   0\n",
      "Customer Id                      0\n",
      "Customer Lname                   0\n",
      "Customer Password                0\n",
      "Customer Segment                 0\n",
      "Customer State                   0\n",
      "Customer Street                  0\n",
      "Customer Zipcode                 0\n",
      "Department Id                    0\n",
      "Department Name                  0\n",
      "Latitude                         0\n",
      "Longitude                        0\n",
      "Market                           0\n",
      "Order City                       0\n",
      "Order Country                    0\n",
      "Order Customer Id                0\n",
      "order date (DateOrders)          0\n",
      "Order Id                         0\n",
      "Order Item Cardprod Id           0\n",
      "Order Item Discount              0\n",
      "Order Item Discount Rate         0\n",
      "Order Item Id                    0\n",
      "Order Item Product Price         0\n",
      "Order Item Profit Ratio          0\n",
      "Order Item Quantity              0\n",
      "Sales                            0\n",
      "Order Item Total                 0\n",
      "Order Profit Per Order           0\n",
      "Order Region                     0\n",
      "Order State                      0\n",
      "Order Status                     0\n",
      "Product Card Id                  0\n",
      "Product Category Id              0\n",
      "Product Image                    0\n",
      "Product Name                     0\n",
      "Product Price                    0\n",
      "Product Status                   0\n",
      "shipping date (DateOrders)       0\n",
      "Shipping Mode                    0\n",
      "dtype: int64\n"
     ]
    }
   ],
   "source": [
    "\n",
    "# Fill missing values for the remaining columns\n",
    "for col in data.columns:\n",
    "    if data[col].dtype == 'object':\n",
    "        # For categorical columns, fill missing with the mode.\n",
    "        data[col].fillna(data[col].mode()[0], inplace=True)\n",
    "    else:\n",
    "        # For numerical columns, fill missing with the median.\n",
    "        data[col].fillna(data[col].median(), inplace=True)\n",
    "\n",
    "# Verify that missing values have been handled\n",
    "print(\"\\nMissing values per column after handling:\")\n",
    "print(data.isnull().sum())"
   ]
  },
  {
   "cell_type": "code",
   "execution_count": 66,
   "id": "ef7e2e54-5b06-44cf-ba7d-624a4487b7c5",
   "metadata": {
    "execution": {
     "iopub.execute_input": "2025-02-19T07:44:13.252767Z",
     "iopub.status.busy": "2025-02-19T07:44:13.252459Z",
     "iopub.status.idle": "2025-02-19T07:44:13.257672Z",
     "shell.execute_reply": "2025-02-19T07:44:13.256595Z",
     "shell.execute_reply.started": "2025-02-19T07:44:13.252748Z"
    }
   },
   "outputs": [
    {
     "name": "stdout",
     "output_type": "stream",
     "text": [
      "\n",
      "cannot perform co-relation\n"
     ]
    }
   ],
   "source": [
    "if data[col].dtype != 'object':\n",
    " data.corr()\n",
    "else:\n",
    " print(\"\\ncannot perform co-relation\")"
   ]
  },
  {
   "cell_type": "markdown",
   "id": "eb028e7c-2f91-4029-a25a-6a173bd1ded1",
   "metadata": {},
   "source": [
    "# Feature selection"
   ]
  },
  {
   "cell_type": "code",
   "execution_count": 68,
   "id": "fb57a115-e6e4-49b4-9b48-4f7696d24551",
   "metadata": {
    "execution": {
     "iopub.execute_input": "2025-02-19T07:44:13.299222Z",
     "iopub.status.busy": "2025-02-19T07:44:13.298500Z",
     "iopub.status.idle": "2025-02-19T07:44:13.619274Z",
     "shell.execute_reply": "2025-02-19T07:44:13.618502Z",
     "shell.execute_reply.started": "2025-02-19T07:44:13.299192Z"
    }
   },
   "outputs": [],
   "source": [
    "from sklearn.feature_selection import SelectKBest, f_regression, f_classif, RFE\n",
    "from sklearn.linear_model import LinearRegression, Lasso, LogisticRegression\n",
    "from sklearn.ensemble import RandomForestRegressor, RandomForestClassifier\n",
    "from sklearn.preprocessing import LabelEncoder\n",
    "from sklearn.model_selection import train_test_split\n"
   ]
  },
  {
   "cell_type": "code",
   "execution_count": 69,
   "id": "a6828003-804e-4aab-aa78-62c6a59ac318",
   "metadata": {
    "execution": {
     "iopub.execute_input": "2025-02-19T07:44:13.621292Z",
     "iopub.status.busy": "2025-02-19T07:44:13.620555Z",
     "iopub.status.idle": "2025-02-19T07:44:13.627305Z",
     "shell.execute_reply": "2025-02-19T07:44:13.626647Z",
     "shell.execute_reply.started": "2025-02-19T07:44:13.621258Z"
    }
   },
   "outputs": [],
   "source": [
    "# ------------------------------\n",
    "# Define Candidate Features for Each Target\n",
    "# ------------------------------\n",
    "# Based on domain knowledge and available variable names:\n",
    "\n",
    "# For Fulfillment Time (\"Days for shipping (real)\"):\n",
    "candidate_features_fulfillment = [\n",
    "    \"Days for shipment (scheduled)\",\n",
    "    \"Shipping Mode\",\n",
    "    \"Order Item Quantity\",\n",
    "    \"Order Region\",\n",
    "    \"Order State\",\n",
    "    \"Order Country\",\n",
    "    \"Latitude\",\n",
    "    \"Longitude\",\n",
    "    \"Customer City\",\n",
    "    \"Customer State\",\n",
    "    \"Market\",\n",
    "    \"Order Status\",\n",
    "    \"order date (DateOrders)\",\n",
    "    \"shipping date (DateOrders)\",\n",
    "    \"Product Category Id\"\n",
    "]\n",
    "\n",
    "# For Order Profit (\"Order Profit Per Order\"):\n",
    "candidate_features_profit = [\n",
    "    \"Order Item Product Price\",\n",
    "    \"Order Item Discount Rate\",\n",
    "    \"Order Item Quantity\",\n",
    "    \"Benefit per order\",\n",
    "    \"Order Item Profit Ratio\",\n",
    "    \"Sales per customer\",\n",
    "    \"Product Price\",\n",
    "    \"Department Name\",\n",
    "    \"Product Category Id\",\n",
    "    \"Shipping Mode\",\n",
    "    \"Order Region\",\n",
    "    \"Customer Segment\"\n",
    "]\n",
    "\n",
    "# For Delay (\"Delivery Status\"):\n",
    "candidate_features_delay = [\n",
    "    \"Shipping Mode\",\n",
    "    \"Days for shipment (scheduled)\",\n",
    "    \"Late_delivery_risk\",\n",
    "    \"Order Status\",\n",
    "    \"Customer State\",\n",
    "    \"Order Region\",\n",
    "    \"Market\",\n",
    "    \"order date (DateOrders)\",\n",
    "    \"shipping date (DateOrders)\",\n",
    "    \"Latitude\",\n",
    "    \"Longitude\",\n",
    "    \"Product Category Id\",\n",
    "    \"Order Item Quantity\",\n",
    "    \"Customer City\"\n",
    "]\n",
    "\n",
    "\n",
    "\n",
    "\n",
    "# Define targets (make sure these match exactly the column names in your data)\n",
    "target_fulfillment = \"Days for shipping (real)\"\n",
    "target_profit = \"Order Profit Per Order\"\n",
    "target_delay = \"Delivery Status\"  # Assumed binary (0 = on time, 1 = delayed)\n"
   ]
  },
  {
   "cell_type": "code",
   "execution_count": 70,
   "id": "b0f3afa6-2abb-4b09-bd6a-cdb9eea8dce3",
   "metadata": {
    "execution": {
     "iopub.execute_input": "2025-02-19T07:44:13.628531Z",
     "iopub.status.busy": "2025-02-19T07:44:13.628238Z",
     "iopub.status.idle": "2025-02-19T07:44:14.769455Z",
     "shell.execute_reply": "2025-02-19T07:44:14.768636Z",
     "shell.execute_reply.started": "2025-02-19T07:44:13.628503Z"
    }
   },
   "outputs": [],
   "source": [
    "\n",
    "\n",
    "\n",
    "# ------------------------------\n",
    "# Preprocessing: Encode Categorical Variables\n",
    "# ------------------------------\n",
    "# We'll encode candidate features using LabelEncoder for simplicity.\n",
    "def encode_candidates(df, features):\n",
    "    for col in features:\n",
    "        if col in df.columns and df[col].dtype == 'object':\n",
    "            le = LabelEncoder()\n",
    "            df[col] = le.fit_transform(df[col])\n",
    "    return df\n",
    "\n",
    "# Combine all candidate features\n",
    "all_candidate_features = list(set(candidate_features_fulfillment + candidate_features_profit + candidate_features_delay))\n",
    "data = encode_candidates(data, all_candidate_features)\n",
    "\n",
    "# Optionally, drop rows with missing values in any candidate features or targets.\n",
    "data = data.dropna(subset=all_candidate_features + [target_fulfillment, target_profit, target_delay])"
   ]
  },
  {
   "cell_type": "code",
   "execution_count": 71,
   "id": "2b6fa92e-a1ca-4c56-b4b1-68907ca2fdd0",
   "metadata": {
    "execution": {
     "iopub.execute_input": "2025-02-19T07:44:14.770975Z",
     "iopub.status.busy": "2025-02-19T07:44:14.770621Z",
     "iopub.status.idle": "2025-02-19T07:44:15.156251Z",
     "shell.execute_reply": "2025-02-19T07:44:15.155328Z",
     "shell.execute_reply.started": "2025-02-19T07:44:14.770948Z"
    }
   },
   "outputs": [
    {
     "name": "stdout",
     "output_type": "stream",
     "text": [
      "\n",
      "=== Feature Selection for Fulfillment Time ===\n",
      "\n",
      "SelectKBest (F-test) scores for Fulfillment Time:\n",
      "                          Feature       F-score   p-value\n",
      "0   Days for shipment (scheduled)  65463.268997  0.000000\n",
      "1                   Shipping Mode  65386.909493  0.000000\n",
      "11                   Order Status     12.999290  0.000312\n",
      "9                  Customer State      5.080094  0.024203\n",
      "12        order date (DateOrders)      4.927262  0.026437\n",
      "4                     Order State      3.526612  0.060393\n",
      "6                        Latitude      2.995160  0.083515\n",
      "7                       Longitude      2.760773  0.096603\n",
      "3                    Order Region      2.603879  0.106604\n",
      "8                   Customer City      1.389426  0.238504\n",
      "13     shipping date (DateOrders)      0.781335  0.376734\n",
      "5                   Order Country      0.699623  0.402912\n",
      "10                         Market      0.206219  0.649748\n",
      "2             Order Item Quantity      0.118689  0.730461\n",
      "14            Product Category Id      0.021823  0.882560\n",
      "\n",
      "RFE selected features for Fulfillment Time:\n",
      "['Days for shipment (scheduled)', 'Shipping Mode']\n"
     ]
    }
   ],
   "source": [
    "# ====================================================\n",
    "# 1. Feature Selection for Fulfillment Time (Regression)\n",
    "# ====================================================\n",
    "print(\"\\n=== Feature Selection for Fulfillment Time ===\")\n",
    "features_ft = [f for f in candidate_features_fulfillment if f in data.columns]\n",
    "X_ft = data[features_ft]\n",
    "y_ft = data[target_fulfillment]\n",
    "\n",
    "# -- a. Filter Method: SelectKBest (F-test)\n",
    "selector_ft = SelectKBest(score_func=f_regression, k='all')\n",
    "selector_ft.fit(X_ft, y_ft)\n",
    "ft_scores = pd.DataFrame({\n",
    "    'Feature': features_ft,\n",
    "    'F-score': selector_ft.scores_,\n",
    "    'p-value': selector_ft.pvalues_\n",
    "})\n",
    "print(\"\\nSelectKBest (F-test) scores for Fulfillment Time:\")\n",
    "print(ft_scores.sort_values(by='F-score', ascending=False))\n",
    "\n",
    "# -- b. Wrapper Method: RFE with Linear Regression\n",
    "estimator_lr_ft = LinearRegression()\n",
    "rfe_ft = RFE(estimator_lr_ft, n_features_to_select=2)  # Adjust the number to select\n",
    "rfe_ft.fit(X_ft, y_ft)\n",
    "selected_rfe_ft = X_ft.columns[rfe_ft.support_]\n",
    "print(\"\\nRFE selected features for Fulfillment Time:\")\n",
    "print(list(selected_rfe_ft))\n",
    "\n"
   ]
  },
  {
   "cell_type": "code",
   "execution_count": 72,
   "id": "8305b3c0-9204-435b-9265-4619b14db13d",
   "metadata": {
    "execution": {
     "iopub.execute_input": "2025-02-19T07:44:15.157560Z",
     "iopub.status.busy": "2025-02-19T07:44:15.157334Z",
     "iopub.status.idle": "2025-02-19T07:44:15.467576Z",
     "shell.execute_reply": "2025-02-19T07:44:15.466544Z",
     "shell.execute_reply.started": "2025-02-19T07:44:15.157540Z"
    }
   },
   "outputs": [
    {
     "name": "stdout",
     "output_type": "stream",
     "text": [
      "\n",
      "=== Feature Selection for Profit ===\n",
      "\n",
      "SelectKBest (F-test) scores for Profit:\n",
      "                     Feature       F-score       p-value\n",
      "4    Order Item Profit Ratio  3.809044e+05  0.000000e+00\n",
      "5         Sales per customer  3.274803e+03  0.000000e+00\n",
      "0   Order Item Product Price  1.953110e+03  0.000000e+00\n",
      "6              Product Price  1.953110e+03  0.000000e+00\n",
      "8        Product Category Id  1.837531e+02  7.700454e-42\n",
      "1   Order Item Discount Rate  6.277077e+01  2.335309e-15\n",
      "2        Order Item Quantity  4.448517e+01  2.570264e-11\n",
      "7            Department Name  6.784693e+00  9.195040e-03\n",
      "10              Order Region  2.180597e+00  1.397620e-01\n",
      "11          Customer Segment  1.136508e+00  2.863928e-01\n",
      "9              Shipping Mode  1.058673e+00  3.035193e-01\n",
      "3          Benefit per order -1.270275e+19  1.000000e+00\n",
      "\n",
      "RFE selected features for Profit:\n",
      "['Order Item Quantity', 'Benefit per order', 'Order Item Profit Ratio']\n"
     ]
    }
   ],
   "source": [
    "# ====================================================\n",
    "# 2. Feature Selection for Profit (Regression)\n",
    "# ====================================================\n",
    "print(\"\\n=== Feature Selection for Profit ===\")\n",
    "features_profit = [f for f in candidate_features_profit if f in data.columns]\n",
    "X_profit = data[features_profit]\n",
    "y_profit_val = data[target_profit]\n",
    "\n",
    "# -- a. Filter Method: SelectKBest (F-test)\n",
    "selector_profit = SelectKBest(score_func=f_regression, k='all')\n",
    "selector_profit.fit(X_profit, y_profit_val)\n",
    "profit_scores = pd.DataFrame({\n",
    "    'Feature': features_profit,\n",
    "    'F-score': selector_profit.scores_,\n",
    "    'p-value': selector_profit.pvalues_\n",
    "})\n",
    "print(\"\\nSelectKBest (F-test) scores for Profit:\")\n",
    "print(profit_scores.sort_values(by='F-score', ascending=False))\n",
    "\n",
    "# -- b. Wrapper Method: RFE with Linear Regression\n",
    "estimator_lr_profit = LinearRegression()\n",
    "rfe_profit = RFE(estimator_lr_profit, n_features_to_select=3)  # Adjust as needed\n",
    "rfe_profit.fit(X_profit, y_profit_val)\n",
    "selected_rfe_profit = X_profit.columns[rfe_profit.support_]\n",
    "print(\"\\nRFE selected features for Profit:\")\n",
    "print(list(selected_rfe_profit))\n",
    "\n",
    "\n",
    "\n",
    "\n"
   ]
  },
  {
   "cell_type": "code",
   "execution_count": null,
   "id": "7a81d04c-3518-4c44-b860-0ea6a61272e4",
   "metadata": {},
   "outputs": [],
   "source": []
  },
  {
   "cell_type": "code",
   "execution_count": 73,
   "id": "f77cb379-f032-47f2-b06c-1396fd20c647",
   "metadata": {
    "execution": {
     "iopub.execute_input": "2025-02-19T07:44:15.469287Z",
     "iopub.status.busy": "2025-02-19T07:44:15.468886Z",
     "iopub.status.idle": "2025-02-19T07:45:22.941302Z",
     "shell.execute_reply": "2025-02-19T07:45:22.940025Z",
     "shell.execute_reply.started": "2025-02-19T07:44:15.469261Z"
    }
   },
   "outputs": [
    {
     "name": "stdout",
     "output_type": "stream",
     "text": [
      "\n",
      "=== Feature Selection for Delay ===\n"
     ]
    },
    {
     "name": "stderr",
     "output_type": "stream",
     "text": [
      "/opt/conda/envs/anaconda-2024.02-py310/lib/python3.10/site-packages/sklearn/feature_selection/_univariate_selection.py:113: RuntimeWarning: divide by zero encountered in divide\n",
      "  f = msb / msw\n"
     ]
    },
    {
     "name": "stdout",
     "output_type": "stream",
     "text": [
      "\n",
      "SelectKBest (F-test) scores for Delay:\n",
      "                          Feature       F-score       p-value\n",
      "2              Late_delivery_risk           inf  0.000000e+00\n",
      "1   Days for shipment (scheduled)  1.513449e+04  0.000000e+00\n",
      "0                   Shipping Mode  1.443895e+04  0.000000e+00\n",
      "3                    Order Status  5.091725e+01  6.933835e-33\n",
      "5                    Order Region  6.336798e+00  2.721722e-04\n",
      "8      shipping date (DateOrders)  4.784055e+00  2.463568e-03\n",
      "13                  Customer City  3.920796e+00  8.244400e-03\n",
      "7         order date (DateOrders)  3.462981e+00  1.553543e-02\n",
      "9                        Latitude  1.075386e+00  3.580560e-01\n",
      "6                          Market  9.175431e-01  4.313597e-01\n",
      "4                  Customer State  8.030894e-01  4.919134e-01\n",
      "10                      Longitude  7.142550e-01  5.433110e-01\n",
      "12            Order Item Quantity  4.583997e-01  7.113587e-01\n",
      "11            Product Category Id  3.061026e-01  8.210076e-01\n",
      "\n",
      "RFE selected features for Delay:\n",
      "['Shipping Mode', 'Late_delivery_risk']\n"
     ]
    }
   ],
   "source": [
    "# ====================================================\n",
    "# 3. Feature Selection for Delay (Classification)\n",
    "# ====================================================\n",
    "print(\"\\n=== Feature Selection for Delay ===\")\n",
    "features_delay = [f for f in candidate_features_delay if f in data.columns]\n",
    "X_delay = data[features_delay]\n",
    "y_delay_val = data[target_delay]\n",
    "\n",
    "# -- a. Filter Method: SelectKBest (F-test for classification)\n",
    "selector_delay = SelectKBest(score_func=f_classif, k='all')\n",
    "selector_delay.fit(X_delay, y_delay_val)\n",
    "delay_scores = pd.DataFrame({\n",
    "    'Feature': features_delay,\n",
    "    'F-score': selector_delay.scores_,\n",
    "    'p-value': selector_delay.pvalues_\n",
    "})\n",
    "print(\"\\nSelectKBest (F-test) scores for Delay:\")\n",
    "print(delay_scores.sort_values(by='F-score', ascending=False))\n",
    "\n",
    "# -- b. Wrapper Method: RFE with Logistic Regression\n",
    "estimator_lr_delay = LogisticRegression(max_iter=1000, solver='liblinear')\n",
    "rfe_delay = RFE(estimator_lr_delay, n_features_to_select=2)  # Adjust as needed\n",
    "rfe_delay.fit(X_delay, y_delay_val)\n",
    "selected_rfe_delay = X_delay.columns[rfe_delay.support_]\n",
    "print(\"\\nRFE selected features for Delay:\")\n",
    "print(list(selected_rfe_delay))\n",
    "\n"
   ]
  },
  {
   "cell_type": "markdown",
   "id": "6f69811b-d8bc-4744-ba80-d6583318bf7b",
   "metadata": {},
   "source": [
    "### Summary on feature selection\n",
    "\n",
    "From the test results as above and consdiering the domain knowledge\n",
    "For **fulfillment time**, all techniques agree that \"Days for shipment (scheduled)\" and \"Shipping Mode\" are the key predictors, while \"Order Item Quantity\" appears to add little value.\n",
    "\n",
    "For **Profit(\"Order Profit Per Order\")**\n",
    "There seems to be a strong signal from \"Benefit per order\" ,\"Order Item Quantity\" suggesting it is a dominant predictor of profit.\n",
    "\"Order Item Profit Ratio\" also appears relevant .\n",
    "However, you might want to investigate the extreme value seen for \"Benefit per order\" in the F-test results, as it might be due to outliers or data quality issues.\n",
    "\n",
    "For **Delay (\"Delivery Status\")**\n",
    "\"Late_delivery_risk\" is consistently the most important feature for predicting delays.\n",
    "\"Shipping Mode\" and \"Days for shipment (scheduled)\" also contribute but to a lesser extent.\n",
    "\"Order Status\" might also add some signals."
   ]
  },
  {
   "cell_type": "code",
   "execution_count": 75,
   "id": "ecaf78e0-8067-42d9-9f84-cca7d5624119",
   "metadata": {
    "execution": {
     "iopub.execute_input": "2025-02-19T07:45:22.994418Z",
     "iopub.status.busy": "2025-02-19T07:45:22.993855Z",
     "iopub.status.idle": "2025-02-19T07:45:23.014920Z",
     "shell.execute_reply": "2025-02-19T07:45:23.014084Z",
     "shell.execute_reply.started": "2025-02-19T07:45:22.994385Z"
    }
   },
   "outputs": [
    {
     "data": {
      "text/plain": [
       "Index(['Type', 'Days for shipping (real)', 'Days for shipment (scheduled)',\n",
       "       'Benefit per order', 'Sales per customer', 'Delivery Status',\n",
       "       'Late_delivery_risk', 'Category Id', 'Category Name', 'Customer City',\n",
       "       'Customer Country', 'Customer Email', 'Customer Fname', 'Customer Id',\n",
       "       'Customer Lname', 'Customer Password', 'Customer Segment',\n",
       "       'Customer State', 'Customer Street', 'Customer Zipcode',\n",
       "       'Department Id', 'Department Name', 'Latitude', 'Longitude', 'Market',\n",
       "       'Order City', 'Order Country', 'Order Customer Id',\n",
       "       'order date (DateOrders)', 'Order Id', 'Order Item Cardprod Id',\n",
       "       'Order Item Discount', 'Order Item Discount Rate', 'Order Item Id',\n",
       "       'Order Item Product Price', 'Order Item Profit Ratio',\n",
       "       'Order Item Quantity', 'Sales', 'Order Item Total',\n",
       "       'Order Profit Per Order', 'Order Region', 'Order State', 'Order Status',\n",
       "       'Product Card Id', 'Product Category Id', 'Product Image',\n",
       "       'Product Name', 'Product Price', 'Product Status',\n",
       "       'shipping date (DateOrders)', 'Shipping Mode'],\n",
       "      dtype='object')"
      ]
     },
     "execution_count": 75,
     "metadata": {},
     "output_type": "execute_result"
    }
   ],
   "source": [
    "data.columns"
   ]
  },
  {
   "cell_type": "code",
   "execution_count": 76,
   "id": "368e8038-a390-47e8-b125-cf1496504f85",
   "metadata": {
    "execution": {
     "iopub.execute_input": "2025-02-19T07:45:23.017136Z",
     "iopub.status.busy": "2025-02-19T07:45:23.016424Z",
     "iopub.status.idle": "2025-02-19T07:45:23.033145Z",
     "shell.execute_reply": "2025-02-19T07:45:23.031830Z",
     "shell.execute_reply.started": "2025-02-19T07:45:23.017068Z"
    }
   },
   "outputs": [],
   "source": [
    "\n",
    "# ----------------------------\n",
    "# Feature Selection based on previous analysis:\n",
    "# For Fulfillment Time, Profit, and Delay we select:\n",
    "selected_features = [\n",
    "    'Days for shipment (scheduled)',\n",
    "    'Shipping Mode',\n",
    "    'Benefit per order',\n",
    "    'Order Item Quantity',\n",
    "    'Order Item Profit Ratio',\n",
    "    'Late_delivery_risk'\n",
    "]\n",
    "target_features = [\n",
    "    'Days for shipping (real)',     # Fulfillment Time\n",
    "    'Order Profit Per Order',       # Order Profit\n",
    "    'Delivery Status'               # Likelihood of Delay\n",
    "]"
   ]
  },
  {
   "cell_type": "code",
   "execution_count": 77,
   "id": "88e7e415-66c9-40e9-af76-a19de32e5e2b",
   "metadata": {
    "execution": {
     "iopub.execute_input": "2025-02-19T07:45:23.034896Z",
     "iopub.status.busy": "2025-02-19T07:45:23.034568Z",
     "iopub.status.idle": "2025-02-19T07:45:23.080916Z",
     "shell.execute_reply": "2025-02-19T07:45:23.080111Z",
     "shell.execute_reply.started": "2025-02-19T07:45:23.034868Z"
    }
   },
   "outputs": [
    {
     "name": "stdout",
     "output_type": "stream",
     "text": [
      "Data shape after dropping missing values: (180519, 9)\n"
     ]
    }
   ],
   "source": [
    "\n",
    "\n",
    "# Create a new DataFrame with the selected features and targets\n",
    "df_q4 = data[selected_features + target_features].dropna()\n",
    "print(\"Data shape after dropping missing values:\", df_q4.shape)\n"
   ]
  },
  {
   "cell_type": "code",
   "execution_count": 78,
   "id": "f0a3253b-9267-40f2-ad4b-737b3bf70bc2",
   "metadata": {
    "execution": {
     "iopub.execute_input": "2025-02-19T07:45:23.082854Z",
     "iopub.status.busy": "2025-02-19T07:45:23.082141Z",
     "iopub.status.idle": "2025-02-19T07:45:23.120695Z",
     "shell.execute_reply": "2025-02-19T07:45:23.119734Z",
     "shell.execute_reply.started": "2025-02-19T07:45:23.082822Z"
    }
   },
   "outputs": [
    {
     "name": "stdout",
     "output_type": "stream",
     "text": [
      "Delivery Status type after conversion: float64\n"
     ]
    }
   ],
   "source": [
    "\n",
    "# ----------------------------\n",
    "# Categorical Feature Encoding\n",
    "# ----------------------------\n",
    "# Encode \"Shipping Mode\" (assumed categorical)\n",
    "le = LabelEncoder()\n",
    "df_q4['Shipping Mode'] = le.fit_transform(df_q4['Shipping Mode'])\n",
    "\n",
    "# ----------------------------\n",
    "# Convert \"Delivery Status\" to Numeric\n",
    "# ----------------------------\n",
    "# Check the type of \"Delivery Status\" and map if necessary.\n",
    "if df_q4['Delivery Status'].dtype == object:\n",
    "    # Define a mapping. Adjust keys if your strings differ.\n",
    "    mapping = {\"On Time\": 0, \"Late delivery\": 1}\n",
    "    df_q4['Delivery Status'] = df_q4['Delivery Status'].map(mapping)\n",
    "    \n",
    "# Drop any rows that might have become NaN after mapping (if there were unexpected values)\n",
    "df_q4 = df_q4.dropna(subset=['Delivery Status'])\n",
    "df_q4['Delivery Status'] = pd.to_numeric(df_q4['Delivery Status'], errors='coerce')\n",
    "print(\"Delivery Status type after conversion:\", df_q4['Delivery Status'].dtype)\n",
    "\n"
   ]
  },
  {
   "cell_type": "code",
   "execution_count": 79,
   "id": "1718bf01-c6f7-4627-8025-01aa0073e5fd",
   "metadata": {
    "execution": {
     "iopub.execute_input": "2025-02-19T07:45:23.122155Z",
     "iopub.status.busy": "2025-02-19T07:45:23.121819Z",
     "iopub.status.idle": "2025-02-19T07:45:23.161775Z",
     "shell.execute_reply": "2025-02-19T07:45:23.160606Z",
     "shell.execute_reply.started": "2025-02-19T07:45:23.122126Z"
    }
   },
   "outputs": [
    {
     "name": "stdout",
     "output_type": "stream",
     "text": [
      "Training set shape: (79181, 9)\n",
      "Test set shape: (19796, 9)\n"
     ]
    }
   ],
   "source": [
    "from sklearn.preprocessing import MinMaxScaler\n",
    "# ----------------------------\n",
    "# Normalization: Scale numerical features using MinMaxScaler\n",
    "# ----------------------------\n",
    "scaler = MinMaxScaler()\n",
    "df_q4[selected_features] = scaler.fit_transform(df_q4[selected_features])\n",
    "\n",
    "# ----------------------------\n",
    "# Dataset Splitting\n",
    "# ----------------------------\n",
    "train_df, test_df = train_test_split(df_q4, test_size=0.2, random_state=42, shuffle=True)\n",
    "print(\"Training set shape:\", train_df.shape)\n",
    "print(\"Test set shape:\", test_df.shape)\n"
   ]
  },
  {
   "cell_type": "code",
   "execution_count": 80,
   "id": "04c0efba-e019-4e1c-abca-69266ef3c1eb",
   "metadata": {
    "execution": {
     "iopub.execute_input": "2025-02-19T07:45:23.164057Z",
     "iopub.status.busy": "2025-02-19T07:45:23.162824Z",
     "iopub.status.idle": "2025-02-19T07:45:23.172980Z",
     "shell.execute_reply": "2025-02-19T07:45:23.172101Z",
     "shell.execute_reply.started": "2025-02-19T07:45:23.164023Z"
    }
   },
   "outputs": [],
   "source": [
    "#############################\n",
    "# (b) Model Implementation\n",
    "#############################\n",
    "\n",
    "# Define the multi-head regression model in PyTorch\n",
    "class MultiHeadRegressionModel(nn.Module):\n",
    "    def __init__(self, input_dim, hidden_dim=64):\n",
    "        super(MultiHeadRegressionModel, self).__init__()\n",
    "        # Shared feature extractor\n",
    "        self.shared = nn.Sequential(\n",
    "            nn.Linear(input_dim, hidden_dim),\n",
    "            nn.ReLU(),\n",
    "            nn.Linear(hidden_dim, hidden_dim),\n",
    "            nn.ReLU()\n",
    "        )\n",
    "        # Output head for Fulfillment Time Prediction (linear output)\n",
    "        self.head_time = nn.Linear(hidden_dim, 1)\n",
    "        # Output head for Order Profit Prediction (linear output)\n",
    "        self.head_profit = nn.Linear(hidden_dim, 1)\n",
    "        # Output head for Likelihood of Delay (binary classification; BCEWithLogitsLoss applies sigmoid)\n",
    "        self.head_delay = nn.Linear(hidden_dim, 1)\n",
    "    \n",
    "    def forward(self, x):\n",
    "        features = self.shared(x)\n",
    "        out_time = self.head_time(features)\n",
    "        out_profit = self.head_profit(features)\n",
    "        out_delay = self.head_delay(features)  # raw logits; sigmoid will be applied in loss function\n",
    "        return out_time, out_profit, out_delay\n",
    "\n",
    "# Determine input dimension (number of selected features)\n",
    "input_dim = len(selected_features)\n",
    "model = MultiHeadRegressionModel(input_dim=input_dim, hidden_dim=64)\n"
   ]
  },
  {
   "cell_type": "code",
   "execution_count": 81,
   "id": "175eff81-89e8-46e7-a9cb-ec354dc530ef",
   "metadata": {
    "execution": {
     "iopub.execute_input": "2025-02-19T07:45:23.174732Z",
     "iopub.status.busy": "2025-02-19T07:45:23.174041Z",
     "iopub.status.idle": "2025-02-19T07:45:26.165310Z",
     "shell.execute_reply": "2025-02-19T07:45:26.164269Z",
     "shell.execute_reply.started": "2025-02-19T07:45:23.174702Z"
    }
   },
   "outputs": [
    {
     "name": "stdout",
     "output_type": "stream",
     "text": [
      "MultiHeadRegressionModel(\n",
      "  (shared): Sequential(\n",
      "    (0): Linear(in_features=6, out_features=64, bias=True)\n",
      "    (1): ReLU()\n",
      "    (2): Linear(in_features=64, out_features=64, bias=True)\n",
      "    (3): ReLU()\n",
      "  )\n",
      "  (head_time): Linear(in_features=64, out_features=1, bias=True)\n",
      "  (head_profit): Linear(in_features=64, out_features=1, bias=True)\n",
      "  (head_delay): Linear(in_features=64, out_features=1, bias=True)\n",
      ")\n",
      "Total trainable parameters: 4803\n"
     ]
    }
   ],
   "source": [
    "import torch\n",
    "import torch.nn as nn\n",
    "import torch.optim as optim\n",
    "\n",
    "# Print model architecture and total trainable parameters\n",
    "print(model)\n",
    "total_params = sum(p.numel() for p in model.parameters() if p.requires_grad)\n",
    "print(\"Total trainable parameters:\", total_params)\n",
    "\n",
    "# Loss functions:\n",
    "criterion_time = nn.MSELoss()            # For Fulfillment Time (regression)\n",
    "criterion_profit = nn.MSELoss()          # For Order Profit (regression)\n",
    "criterion_delay = nn.BCEWithLogitsLoss()  # For Likelihood of Delay (binary classification)\n",
    "\n",
    "# Optimizer\n",
    "optimizer = optim.Adam(model.parameters(), lr=0.001)\n"
   ]
  },
  {
   "cell_type": "code",
   "execution_count": 82,
   "id": "6dae3011-5c24-4b9f-bb85-80921a3effdf",
   "metadata": {
    "execution": {
     "iopub.execute_input": "2025-02-19T07:45:26.167538Z",
     "iopub.status.busy": "2025-02-19T07:45:26.166514Z",
     "iopub.status.idle": "2025-02-19T07:45:26.184822Z",
     "shell.execute_reply": "2025-02-19T07:45:26.184074Z",
     "shell.execute_reply.started": "2025-02-19T07:45:26.167505Z"
    }
   },
   "outputs": [],
   "source": [
    "#############################\n",
    "# (c) Training and Evaluation\n",
    "#############################\n",
    "\n",
    "# Convert training data to PyTorch tensors\n",
    "X_train = torch.tensor(train_df[selected_features].values, dtype=torch.float32)\n",
    "y_train_time = torch.tensor(train_df['Days for shipping (real)'].values, dtype=torch.float32).view(-1, 1)\n",
    "y_train_profit = torch.tensor(train_df['Order Profit Per Order'].values, dtype=torch.float32).view(-1, 1)\n",
    "y_train_delay = torch.tensor(train_df['Delivery Status'].values.astype(np.float32), dtype=torch.float32).view(-1, 1)\n",
    "\n",
    "# Convert test data to PyTorch tensors\n",
    "X_test = torch.tensor(test_df[selected_features].values, dtype=torch.float32)\n",
    "y_test_time = test_df['Days for shipping (real)'].values\n",
    "y_test_profit = test_df['Order Profit Per Order'].values\n",
    "y_test_delay = test_df['Delivery Status'].values\n"
   ]
  },
  {
   "cell_type": "code",
   "execution_count": 92,
   "id": "8ece04f6-cd5b-4648-b7a6-d2013f920e7a",
   "metadata": {
    "execution": {
     "iopub.execute_input": "2025-02-19T07:46:02.124443Z",
     "iopub.status.busy": "2025-02-19T07:46:02.124011Z",
     "iopub.status.idle": "2025-02-19T07:46:02.131438Z",
     "shell.execute_reply": "2025-02-19T07:46:02.130713Z",
     "shell.execute_reply.started": "2025-02-19T07:46:02.124404Z"
    }
   },
   "outputs": [
    {
     "data": {
      "text/plain": [
       "MultiHeadRegressionModel(\n",
       "  (shared): Sequential(\n",
       "    (0): Linear(in_features=6, out_features=64, bias=True)\n",
       "    (1): ReLU()\n",
       "    (2): Linear(in_features=64, out_features=64, bias=True)\n",
       "    (3): ReLU()\n",
       "  )\n",
       "  (head_time): Linear(in_features=64, out_features=1, bias=True)\n",
       "  (head_profit): Linear(in_features=64, out_features=1, bias=True)\n",
       "  (head_delay): Linear(in_features=64, out_features=1, bias=True)\n",
       ")"
      ]
     },
     "execution_count": 92,
     "metadata": {},
     "output_type": "execute_result"
    }
   ],
   "source": [
    "\n",
    "\n",
    "# Training loop\n",
    "num_epochs = 100\n",
    "loss_history_time = []\n",
    "loss_history_profit = []\n",
    "loss_history_delay = []\n",
    "\n",
    "model.train()"
   ]
  },
  {
   "cell_type": "code",
   "execution_count": 100,
   "id": "493935ee-f1c1-47ce-8e4e-f70a7f3d09a2",
   "metadata": {
    "execution": {
     "iopub.execute_input": "2025-02-19T07:46:48.391252Z",
     "iopub.status.busy": "2025-02-19T07:46:48.390844Z",
     "iopub.status.idle": "2025-02-19T07:46:55.006954Z",
     "shell.execute_reply": "2025-02-19T07:46:55.006228Z",
     "shell.execute_reply.started": "2025-02-19T07:46:48.391226Z"
    }
   },
   "outputs": [
    {
     "name": "stdout",
     "output_type": "stream",
     "text": [
      "Epoch 10/100 | Time Loss: 0.9729 | Profit Loss: 3395.0505 | Delay Loss: 0.00\n",
      "Epoch 20/100 | Time Loss: 0.9640 | Profit Loss: 3381.9282 | Delay Loss: 0.00\n",
      "Epoch 30/100 | Time Loss: 0.9553 | Profit Loss: 3368.7456 | Delay Loss: 0.00\n",
      "Epoch 40/100 | Time Loss: 0.9464 | Profit Loss: 3355.4766 | Delay Loss: 0.00\n",
      "Epoch 50/100 | Time Loss: 0.9376 | Profit Loss: 3342.1084 | Delay Loss: 0.00\n",
      "Epoch 60/100 | Time Loss: 0.9293 | Profit Loss: 3328.6497 | Delay Loss: 0.00\n",
      "Epoch 70/100 | Time Loss: 0.9203 | Profit Loss: 3315.1208 | Delay Loss: 0.00\n",
      "Epoch 80/100 | Time Loss: 0.9118 | Profit Loss: 3301.5249 | Delay Loss: 0.00\n",
      "Epoch 90/100 | Time Loss: 0.9031 | Profit Loss: 3287.8542 | Delay Loss: 0.00\n",
      "Epoch 100/100 | Time Loss: 0.8946 | Profit Loss: 3274.0740 | Delay Loss: 0.00\n"
     ]
    }
   ],
   "source": [
    "\n",
    "for epoch in range(num_epochs):\n",
    "    optimizer.zero_grad()\n",
    "    \n",
    "    # Forward pass\n",
    "    pred_time, pred_profit, pred_delay = model(X_train)\n",
    "    \n",
    "    # Compute losses for each output head\n",
    "    loss_time = criterion_time(pred_time, y_train_time)\n",
    "    loss_profit = criterion_profit(pred_profit, y_train_profit)\n",
    "    loss_delay = criterion_delay(pred_delay, y_train_delay)\n",
    "    \n",
    "    total_loss = loss_time + loss_profit + loss_delay\n",
    "    total_loss.backward()\n",
    "    optimizer.step()\n",
    "    \n",
    "    loss_history_time.append(loss_time.item())\n",
    "    loss_history_profit.append(loss_profit.item())\n",
    "    loss_history_delay.append(loss_delay.item())\n",
    "    \n",
    "    if (epoch+1) % 10 == 0:\n",
    "        print(f\"Epoch {epoch+1}/{num_epochs} | Time Loss: {loss_time.item():.4f} | Profit Loss: {loss_profit.item():.4f} | Delay Loss: {loss_delay.item():.2f}\")\n",
    "\n",
    "\n"
   ]
  },
  {
   "cell_type": "code",
   "execution_count": 102,
   "id": "2c0da387-3f11-4891-bca3-e1d3156e1a17",
   "metadata": {
    "execution": {
     "iopub.execute_input": "2025-02-19T07:46:56.343910Z",
     "iopub.status.busy": "2025-02-19T07:46:56.343512Z",
     "iopub.status.idle": "2025-02-19T07:46:56.544845Z",
     "shell.execute_reply": "2025-02-19T07:46:56.544188Z",
     "shell.execute_reply.started": "2025-02-19T07:46:56.343874Z"
    }
   },
   "outputs": [
    {
     "data": {
      "image/png": "[encoded data removed]",
      "text/plain": [
       "<Figure size 1000x600 with 1 Axes>"
      ]
     },
     "metadata": {},
     "output_type": "display_data"
    }
   ],
   "source": [
    "# Plot training loss curves\n",
    "plt.figure(figsize=(10, 6))\n",
    "plt.plot(loss_history_time, label=\"Fulfillment Time Loss\")\n",
    "plt.plot(loss_history_profit, label=\"Profit Loss\")\n",
    "plt.plot(loss_history_delay, label=\"Delay Loss\")\n",
    "plt.xlabel(\"Epoch\")\n",
    "plt.ylabel(\"Loss\")\n",
    "plt.title(\"Training Loss Curves\")\n",
    "plt.legend()\n",
    "plt.show()\n",
    "\n"
   ]
  },
  {
   "cell_type": "code",
   "execution_count": 104,
   "id": "fd15bd00-d692-4e12-b98e-f4ca7fe1e0c6",
   "metadata": {
    "execution": {
     "iopub.execute_input": "2025-02-19T07:46:57.559638Z",
     "iopub.status.busy": "2025-02-19T07:46:57.559125Z",
     "iopub.status.idle": "2025-02-19T07:46:58.055508Z",
     "shell.execute_reply": "2025-02-19T07:46:58.054679Z",
     "shell.execute_reply.started": "2025-02-19T07:46:57.559610Z"
    }
   },
   "outputs": [
    {
     "data": {
      "image/png": "[encoded data removed]",
      "text/plain": [
       "<Figure size 1200x400 with 3 Axes>"
      ]
     },
     "metadata": {},
     "output_type": "display_data"
    }
   ],
   "source": [
    "plt.figure(figsize=(12, 4))\n",
    "\n",
    "plt.subplot(1, 4, 1)\n",
    "plt.plot(loss_history_time, label='Time Loss')\n",
    "plt.title(\"Fulfillment Time Loss\")\n",
    "plt.xlabel(\"Epoch\")\n",
    "plt.ylabel(\"MSE\")\n",
    "\n",
    "plt.subplot(1, 4, 2)\n",
    "plt.plot(loss_history_profit, label='Profit Loss', color='orange')\n",
    "plt.title(\"Profit Loss\")\n",
    "plt.xlabel(\"Epoch\")\n",
    "plt.ylabel(\"MSE\")\n",
    "\n",
    "plt.subplot(1, 4, 3)\n",
    "plt.plot(loss_history_delay, label='Delay Loss', color='green')\n",
    "plt.title(\"Delay Loss\")\n",
    "plt.xlabel(\"Epoch\")\n",
    "plt.ylabel(\"BCE Loss\")\n",
    "\n",
    "\n",
    "plt.tight_layout()\n",
    "plt.show()\n"
   ]
  },
  {
   "cell_type": "code",
   "execution_count": 106,
   "id": "cc7735aa-3fcd-4808-9768-55329d158142",
   "metadata": {
    "execution": {
     "iopub.execute_input": "2025-02-19T07:47:01.332710Z",
     "iopub.status.busy": "2025-02-19T07:47:01.331237Z",
     "iopub.status.idle": "2025-02-19T07:47:01.383053Z",
     "shell.execute_reply": "2025-02-19T07:47:01.381799Z",
     "shell.execute_reply.started": "2025-02-19T07:47:01.332670Z"
    }
   },
   "outputs": [],
   "source": [
    "# Evaluation on the test dataset\n",
    "model.eval()\n",
    "with torch.no_grad():\n",
    "    pred_time_test, pred_profit_test, pred_delay_test = model(X_test)\n",
    "    pred_time_test = pred_time_test.numpy().flatten()\n",
    "    pred_profit_test = pred_profit_test.numpy().flatten()\n",
    "    # Apply sigmoid to the delay logits to get probability estimates\n",
    "    pred_delay_test_prob = torch.sigmoid(pred_delay_test).numpy().flatten()\n",
    "\n"
   ]
  },
  {
   "cell_type": "code",
   "execution_count": 108,
   "id": "696f99a7-e115-426e-a9d5-070dcbd72ed3",
   "metadata": {
    "execution": {
     "iopub.execute_input": "2025-02-19T07:47:02.384472Z",
     "iopub.status.busy": "2025-02-19T07:47:02.384069Z",
     "iopub.status.idle": "2025-02-19T07:47:02.397024Z",
     "shell.execute_reply": "2025-02-19T07:47:02.396116Z",
     "shell.execute_reply.started": "2025-02-19T07:47:02.384439Z"
    }
   },
   "outputs": [
    {
     "name": "stdout",
     "output_type": "stream",
     "text": [
      "\n",
      "--- Model Evaluation ---\n",
      "Fulfillment Time - MAE: 0.7629, R²: 0.6949\n",
      "Order Profit - MAE: 29.8855, R²: 0.6809\n"
     ]
    }
   ],
   "source": [
    "\n",
    "from sklearn.metrics import r2_score, mean_squared_error, mean_absolute_error\n",
    "\n",
    "# Compute evaluation metrics for regression outputs\n",
    "mae_time = mean_absolute_error(y_test_time, pred_time_test)\n",
    "r2_time = r2_score(y_test_time, pred_time_test)\n",
    "mae_profit = mean_absolute_error(y_test_profit, pred_profit_test)\n",
    "r2_profit = r2_score(y_test_profit, pred_profit_test)\n",
    "\n",
    "print(\"\\n--- Model Evaluation ---\")\n",
    "print(f\"Fulfillment Time - MAE: {mae_time:.4f}, R²: {r2_time:.4f}\")\n",
    "print(f\"Order Profit - MAE: {mae_profit:.4f}, R²: {r2_profit:.4f}\")\n",
    "\n"
   ]
  },
  {
   "cell_type": "code",
   "execution_count": null,
   "id": "d4cf8b89-4235-4d48-b776-e223c7994b63",
   "metadata": {
    "execution": {
     "iopub.status.busy": "2025-02-19T07:46:00.865873Z",
     "iopub.status.idle": "2025-02-19T07:46:00.866462Z",
     "shell.execute_reply": "2025-02-19T07:46:00.866331Z",
     "shell.execute_reply.started": "2025-02-19T07:46:00.866313Z"
    }
   },
   "outputs": [],
   "source": [
    "# Compute BCE loss on the test set for delay\n",
    "y_test_delay_tensor = torch.tensor(y_test_delay.astype(np.float32), dtype=torch.float32).view(-1, 1)\n",
    "bce_loss_test = criterion_delay(pred_delay_test, y_test_delay_tensor)\n",
    "print(f\"Delay Prediction - BCE Loss: {bce_loss_test.item():.4f}\")\n",
    "\n"
   ]
  },
  {
   "cell_type": "code",
   "execution_count": null,
   "id": "8790cd70-6705-4729-ab16-e9a87487314c",
   "metadata": {
    "execution": {
     "iopub.status.busy": "2025-02-19T07:46:00.867397Z",
     "iopub.status.idle": "2025-02-19T07:46:00.867708Z",
     "shell.execute_reply": "2025-02-19T07:46:00.867548Z",
     "shell.execute_reply.started": "2025-02-19T07:46:00.867537Z"
    }
   },
   "outputs": [],
   "source": [
    "# Scatter plots: True vs. Predicted for Fulfillment Time and Order Profit\n",
    "plt.figure(figsize=(12, 5))\n",
    "\n",
    "plt.subplot(1, 2, 1)\n",
    "plt.scatter(y_test_time, pred_time_test, alpha=0.6)\n",
    "plt.xlabel(\"True Fulfillment Time\")\n",
    "plt.ylabel(\"Predicted Fulfillment Time\")\n",
    "plt.title(\"Fulfillment Time: True vs. Predicted\")\n",
    "plt.plot([min(y_test_time), max(y_test_time)], [min(y_test_time), max(y_test_time)], 'r--')\n",
    "\n",
    "plt.subplot(1, 2, 2)\n",
    "plt.scatter(y_test_profit, pred_profit_test, alpha=0.6)\n",
    "plt.xlabel(\"True Order Profit\")\n",
    "plt.ylabel(\"Predicted Order Profit\")\n",
    "plt.title(\"Order Profit: True vs. Predicted\")\n",
    "plt.plot([min(y_test_profit), max(y_test_profit)], [min(y_test_profit), max(y_test_profit)], 'r--')\n",
    "\n",
    "plt.tight_layout()\n",
    "plt.show()"
   ]
  },
  {
   "cell_type": "code",
   "execution_count": null,
   "id": "66094389-1683-4c21-8f35-be2e14fcdb7f",
   "metadata": {},
   "outputs": [],
   "source": []
  },
  {
   "cell_type": "code",
   "execution_count": null,
   "id": "6a367354-2715-4bd7-a553-213a69e6af02",
   "metadata": {},
   "outputs": [],
   "source": []
  }
 ],
 "metadata": {
  "kernelspec": {
   "display_name": "anaconda-2024.02-py310",
   "language": "python",
   "name": "conda-env-anaconda-2024.02-py310-py"
  },
  "language_info": {
   "codemirror_mode": {
    "name": "ipython",
    "version": 3
   },
   "file_extension": ".py",
   "mimetype": "text/x-python",
   "name": "python",
   "nbconvert_exporter": "python",
   "pygments_lexer": "ipython3",
   "version": "3.10.14"
  }
 },
 "nbformat": 4,
 "nbformat_minor": 5
}
